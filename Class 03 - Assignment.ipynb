{
 "cells": [
  {
   "cell_type": "markdown",
   "id": "8b37422f",
   "metadata": {},
   "source": [
    "# Assignment\n"
   ]
  },
  {
   "cell_type": "code",
   "execution_count": 5,
   "id": "7638753b",
   "metadata": {},
   "outputs": [],
   "source": [
    "import pandas as pd\n",
    "import numpy as np\n",
    "import seaborn as sns\n",
    "import matplotlib.pyplot as plt"
   ]
  },
  {
   "cell_type": "code",
   "execution_count": 6,
   "id": "8541c7bb",
   "metadata": {},
   "outputs": [
    {
     "name": "stderr",
     "output_type": "stream",
     "text": [
      "/var/folders/4t/flkqq_hn3474p78hfyx8dlz00000gn/T/ipykernel_2198/1393099629.py:1: DtypeWarning: Columns (25,108) have mixed types. Specify dtype option on import or set low_memory=False.\n",
      "  df = pd.read_csv('players_22 - players_22.csv')\n"
     ]
    }
   ],
   "source": [
    "df = pd.read_csv('players_22 - players_22.csv')"
   ]
  },
  {
   "cell_type": "code",
   "execution_count": null,
   "id": "ffd3a3c6",
   "metadata": {},
   "outputs": [],
   "source": []
  },
  {
   "cell_type": "code",
   "execution_count": 7,
   "id": "39f2df85",
   "metadata": {},
   "outputs": [
    {
     "data": {
      "text/html": [
       "<div>\n",
       "<style scoped>\n",
       "    .dataframe tbody tr th:only-of-type {\n",
       "        vertical-align: middle;\n",
       "    }\n",
       "\n",
       "    .dataframe tbody tr th {\n",
       "        vertical-align: top;\n",
       "    }\n",
       "\n",
       "    .dataframe thead th {\n",
       "        text-align: right;\n",
       "    }\n",
       "</style>\n",
       "<table border=\"1\" class=\"dataframe\">\n",
       "  <thead>\n",
       "    <tr style=\"text-align: right;\">\n",
       "      <th></th>\n",
       "      <th>sofifa_id</th>\n",
       "      <th>player_url</th>\n",
       "      <th>short_name</th>\n",
       "      <th>long_name</th>\n",
       "      <th>player_positions</th>\n",
       "      <th>overall</th>\n",
       "      <th>potential</th>\n",
       "      <th>value_eur</th>\n",
       "      <th>wage_eur</th>\n",
       "      <th>age</th>\n",
       "      <th>...</th>\n",
       "      <th>lcb</th>\n",
       "      <th>cb</th>\n",
       "      <th>rcb</th>\n",
       "      <th>rb</th>\n",
       "      <th>gk</th>\n",
       "      <th>player_face_url</th>\n",
       "      <th>club_logo_url</th>\n",
       "      <th>club_flag_url</th>\n",
       "      <th>nation_logo_url</th>\n",
       "      <th>nation_flag_url</th>\n",
       "    </tr>\n",
       "  </thead>\n",
       "  <tbody>\n",
       "    <tr>\n",
       "      <th>0</th>\n",
       "      <td>158023</td>\n",
       "      <td>https://sofifa.com/player/158023/lionel-messi/...</td>\n",
       "      <td>L. Messi</td>\n",
       "      <td>Lionel Andrés Messi Cuccittini</td>\n",
       "      <td>RW, ST, CF</td>\n",
       "      <td>93</td>\n",
       "      <td>93</td>\n",
       "      <td>78000000.0</td>\n",
       "      <td>320000.0</td>\n",
       "      <td>34</td>\n",
       "      <td>...</td>\n",
       "      <td>50+3</td>\n",
       "      <td>50+3</td>\n",
       "      <td>50+3</td>\n",
       "      <td>61+3</td>\n",
       "      <td>19+3</td>\n",
       "      <td>https://cdn.sofifa.net/players/158/023/22_120.png</td>\n",
       "      <td>https://cdn.sofifa.net/teams/73/60.png</td>\n",
       "      <td>https://cdn.sofifa.net/flags/fr.png</td>\n",
       "      <td>https://cdn.sofifa.net/teams/1369/60.png</td>\n",
       "      <td>https://cdn.sofifa.net/flags/ar.png</td>\n",
       "    </tr>\n",
       "    <tr>\n",
       "      <th>1</th>\n",
       "      <td>188545</td>\n",
       "      <td>https://sofifa.com/player/188545/robert-lewand...</td>\n",
       "      <td>R. Lewandowski</td>\n",
       "      <td>Robert Lewandowski</td>\n",
       "      <td>ST</td>\n",
       "      <td>92</td>\n",
       "      <td>92</td>\n",
       "      <td>119500000.0</td>\n",
       "      <td>270000.0</td>\n",
       "      <td>32</td>\n",
       "      <td>...</td>\n",
       "      <td>60+3</td>\n",
       "      <td>60+3</td>\n",
       "      <td>60+3</td>\n",
       "      <td>61+3</td>\n",
       "      <td>19+3</td>\n",
       "      <td>https://cdn.sofifa.net/players/188/545/22_120.png</td>\n",
       "      <td>https://cdn.sofifa.net/teams/21/60.png</td>\n",
       "      <td>https://cdn.sofifa.net/flags/de.png</td>\n",
       "      <td>https://cdn.sofifa.net/teams/1353/60.png</td>\n",
       "      <td>https://cdn.sofifa.net/flags/pl.png</td>\n",
       "    </tr>\n",
       "    <tr>\n",
       "      <th>2</th>\n",
       "      <td>20801</td>\n",
       "      <td>https://sofifa.com/player/20801/c-ronaldo-dos-...</td>\n",
       "      <td>Cristiano Ronaldo</td>\n",
       "      <td>Cristiano Ronaldo dos Santos Aveiro</td>\n",
       "      <td>ST, LW</td>\n",
       "      <td>91</td>\n",
       "      <td>91</td>\n",
       "      <td>45000000.0</td>\n",
       "      <td>270000.0</td>\n",
       "      <td>36</td>\n",
       "      <td>...</td>\n",
       "      <td>53+3</td>\n",
       "      <td>53+3</td>\n",
       "      <td>53+3</td>\n",
       "      <td>60+3</td>\n",
       "      <td>20+3</td>\n",
       "      <td>https://cdn.sofifa.net/players/020/801/22_120.png</td>\n",
       "      <td>https://cdn.sofifa.net/teams/11/60.png</td>\n",
       "      <td>https://cdn.sofifa.net/flags/gb-eng.png</td>\n",
       "      <td>https://cdn.sofifa.net/teams/1354/60.png</td>\n",
       "      <td>https://cdn.sofifa.net/flags/pt.png</td>\n",
       "    </tr>\n",
       "    <tr>\n",
       "      <th>3</th>\n",
       "      <td>190871</td>\n",
       "      <td>https://sofifa.com/player/190871/neymar-da-sil...</td>\n",
       "      <td>Neymar Jr</td>\n",
       "      <td>Neymar da Silva Santos Júnior</td>\n",
       "      <td>LW, CAM</td>\n",
       "      <td>91</td>\n",
       "      <td>91</td>\n",
       "      <td>129000000.0</td>\n",
       "      <td>270000.0</td>\n",
       "      <td>29</td>\n",
       "      <td>...</td>\n",
       "      <td>50+3</td>\n",
       "      <td>50+3</td>\n",
       "      <td>50+3</td>\n",
       "      <td>62+3</td>\n",
       "      <td>20+3</td>\n",
       "      <td>https://cdn.sofifa.net/players/190/871/22_120.png</td>\n",
       "      <td>https://cdn.sofifa.net/teams/73/60.png</td>\n",
       "      <td>https://cdn.sofifa.net/flags/fr.png</td>\n",
       "      <td>NaN</td>\n",
       "      <td>https://cdn.sofifa.net/flags/br.png</td>\n",
       "    </tr>\n",
       "    <tr>\n",
       "      <th>4</th>\n",
       "      <td>192985</td>\n",
       "      <td>https://sofifa.com/player/192985/kevin-de-bruy...</td>\n",
       "      <td>K. De Bruyne</td>\n",
       "      <td>Kevin De Bruyne</td>\n",
       "      <td>CM, CAM</td>\n",
       "      <td>91</td>\n",
       "      <td>91</td>\n",
       "      <td>125500000.0</td>\n",
       "      <td>350000.0</td>\n",
       "      <td>30</td>\n",
       "      <td>...</td>\n",
       "      <td>69+3</td>\n",
       "      <td>69+3</td>\n",
       "      <td>69+3</td>\n",
       "      <td>75+3</td>\n",
       "      <td>21+3</td>\n",
       "      <td>https://cdn.sofifa.net/players/192/985/22_120.png</td>\n",
       "      <td>https://cdn.sofifa.net/teams/10/60.png</td>\n",
       "      <td>https://cdn.sofifa.net/flags/gb-eng.png</td>\n",
       "      <td>https://cdn.sofifa.net/teams/1325/60.png</td>\n",
       "      <td>https://cdn.sofifa.net/flags/be.png</td>\n",
       "    </tr>\n",
       "  </tbody>\n",
       "</table>\n",
       "<p>5 rows × 110 columns</p>\n",
       "</div>"
      ],
      "text/plain": [
       "   sofifa_id                                         player_url  \\\n",
       "0     158023  https://sofifa.com/player/158023/lionel-messi/...   \n",
       "1     188545  https://sofifa.com/player/188545/robert-lewand...   \n",
       "2      20801  https://sofifa.com/player/20801/c-ronaldo-dos-...   \n",
       "3     190871  https://sofifa.com/player/190871/neymar-da-sil...   \n",
       "4     192985  https://sofifa.com/player/192985/kevin-de-bruy...   \n",
       "\n",
       "          short_name                            long_name player_positions  \\\n",
       "0           L. Messi       Lionel Andrés Messi Cuccittini       RW, ST, CF   \n",
       "1     R. Lewandowski                   Robert Lewandowski               ST   \n",
       "2  Cristiano Ronaldo  Cristiano Ronaldo dos Santos Aveiro           ST, LW   \n",
       "3          Neymar Jr        Neymar da Silva Santos Júnior          LW, CAM   \n",
       "4       K. De Bruyne                      Kevin De Bruyne          CM, CAM   \n",
       "\n",
       "   overall  potential    value_eur  wage_eur  age  ...   lcb    cb   rcb  \\\n",
       "0       93         93   78000000.0  320000.0   34  ...  50+3  50+3  50+3   \n",
       "1       92         92  119500000.0  270000.0   32  ...  60+3  60+3  60+3   \n",
       "2       91         91   45000000.0  270000.0   36  ...  53+3  53+3  53+3   \n",
       "3       91         91  129000000.0  270000.0   29  ...  50+3  50+3  50+3   \n",
       "4       91         91  125500000.0  350000.0   30  ...  69+3  69+3  69+3   \n",
       "\n",
       "     rb    gk                                    player_face_url  \\\n",
       "0  61+3  19+3  https://cdn.sofifa.net/players/158/023/22_120.png   \n",
       "1  61+3  19+3  https://cdn.sofifa.net/players/188/545/22_120.png   \n",
       "2  60+3  20+3  https://cdn.sofifa.net/players/020/801/22_120.png   \n",
       "3  62+3  20+3  https://cdn.sofifa.net/players/190/871/22_120.png   \n",
       "4  75+3  21+3  https://cdn.sofifa.net/players/192/985/22_120.png   \n",
       "\n",
       "                            club_logo_url  \\\n",
       "0  https://cdn.sofifa.net/teams/73/60.png   \n",
       "1  https://cdn.sofifa.net/teams/21/60.png   \n",
       "2  https://cdn.sofifa.net/teams/11/60.png   \n",
       "3  https://cdn.sofifa.net/teams/73/60.png   \n",
       "4  https://cdn.sofifa.net/teams/10/60.png   \n",
       "\n",
       "                             club_flag_url  \\\n",
       "0      https://cdn.sofifa.net/flags/fr.png   \n",
       "1      https://cdn.sofifa.net/flags/de.png   \n",
       "2  https://cdn.sofifa.net/flags/gb-eng.png   \n",
       "3      https://cdn.sofifa.net/flags/fr.png   \n",
       "4  https://cdn.sofifa.net/flags/gb-eng.png   \n",
       "\n",
       "                            nation_logo_url  \\\n",
       "0  https://cdn.sofifa.net/teams/1369/60.png   \n",
       "1  https://cdn.sofifa.net/teams/1353/60.png   \n",
       "2  https://cdn.sofifa.net/teams/1354/60.png   \n",
       "3                                       NaN   \n",
       "4  https://cdn.sofifa.net/teams/1325/60.png   \n",
       "\n",
       "                       nation_flag_url  \n",
       "0  https://cdn.sofifa.net/flags/ar.png  \n",
       "1  https://cdn.sofifa.net/flags/pl.png  \n",
       "2  https://cdn.sofifa.net/flags/pt.png  \n",
       "3  https://cdn.sofifa.net/flags/br.png  \n",
       "4  https://cdn.sofifa.net/flags/be.png  \n",
       "\n",
       "[5 rows x 110 columns]"
      ]
     },
     "execution_count": 7,
     "metadata": {},
     "output_type": "execute_result"
    }
   ],
   "source": [
    "df.head()"
   ]
  },
  {
   "cell_type": "markdown",
   "id": "72804284",
   "metadata": {},
   "source": [
    "Well, not everyone plays football or knows everything about it, so i will write some clarifications.\n",
    "\n",
    "In football, player positions corresponds to these positions:-\n",
    "\n",
    "![](https://www.fifplay.com/img/public/positions.jpg)"
   ]
  },
  {
   "cell_type": "markdown",
   "id": "960d03f6",
   "metadata": {},
   "source": [
    "In this dataset, you have 1 row each for every football player in the game FIFA 22, For every player we have :-\n",
    "- Name\n",
    "- Weight\n",
    "- Height\n",
    "- Salary\n",
    "- Overall (This is an overall score of how good the player is)\n",
    "- Potential (In FIFA, if you play career mode, players evolve and their overall scores improve, potential refers to how good a player can get, not what he is currently)\n",
    "\n",
    "Then we have most other options like:-\n",
    "- Heading (How well can the player head the ball)\n",
    "- Standing tackle (How well can the player do a standing tackle - defense)\n",
    "- Sliding tackle (How well can the player do a sliding tackle - defense)\n",
    "\n",
    "And many many more"
   ]
  },
  {
   "cell_type": "markdown",
   "id": "26c1363e",
   "metadata": {},
   "source": [
    "# Question \n",
    "\n",
    "This dataset is very rich, meaning you can get a lot of insights from this data. \n",
    "\n",
    "So, i have 2 questions for you. \n",
    "1. Open ended\n",
    "    - Give me some insights from this data. (Totally open ended, dazzle me with your brilliance ^_^ )\n",
    "2. You are hired by Real Madrid, and they want you to scout the best players possible\n",
    "    - They are looking young players, not over 26\n",
    "    - They are looking for 4 players\n",
    "        - 1 for Goalkeeper \n",
    "        - 1 Defender (Could be any position)\n",
    "        - 1 Midfielder (Could be any position)\n",
    "        - 1 Attacker (Could be any position)\n",
    "        \n",
    "\n",
    "\n",
    "![](https://media.tenor.com/GFVJq3zf6GYAAAAC/dazzle-me-virgil-van-cleef.gif)"
   ]
  },
  {
   "cell_type": "code",
   "execution_count": 10,
   "id": "23246307",
   "metadata": {},
   "outputs": [
    {
     "data": {
      "text/html": [
       "<div>\n",
       "<style scoped>\n",
       "    .dataframe tbody tr th:only-of-type {\n",
       "        vertical-align: middle;\n",
       "    }\n",
       "\n",
       "    .dataframe tbody tr th {\n",
       "        vertical-align: top;\n",
       "    }\n",
       "\n",
       "    .dataframe thead th {\n",
       "        text-align: right;\n",
       "    }\n",
       "</style>\n",
       "<table border=\"1\" class=\"dataframe\">\n",
       "  <thead>\n",
       "    <tr style=\"text-align: right;\">\n",
       "      <th></th>\n",
       "      <th>sofifa_id</th>\n",
       "      <th>overall</th>\n",
       "      <th>potential</th>\n",
       "      <th>value_eur</th>\n",
       "      <th>wage_eur</th>\n",
       "      <th>age</th>\n",
       "      <th>height_cm</th>\n",
       "      <th>weight_kg</th>\n",
       "      <th>club_team_id</th>\n",
       "      <th>league_level</th>\n",
       "      <th>...</th>\n",
       "      <th>mentality_composure</th>\n",
       "      <th>defending_marking_awareness</th>\n",
       "      <th>defending_standing_tackle</th>\n",
       "      <th>defending_sliding_tackle</th>\n",
       "      <th>goalkeeping_diving</th>\n",
       "      <th>goalkeeping_handling</th>\n",
       "      <th>goalkeeping_kicking</th>\n",
       "      <th>goalkeeping_positioning</th>\n",
       "      <th>goalkeeping_reflexes</th>\n",
       "      <th>goalkeeping_speed</th>\n",
       "    </tr>\n",
       "  </thead>\n",
       "  <tbody>\n",
       "    <tr>\n",
       "      <th>0</th>\n",
       "      <td>158023</td>\n",
       "      <td>93</td>\n",
       "      <td>93</td>\n",
       "      <td>78000000.0</td>\n",
       "      <td>320000.0</td>\n",
       "      <td>34</td>\n",
       "      <td>170</td>\n",
       "      <td>72</td>\n",
       "      <td>73.0</td>\n",
       "      <td>1.0</td>\n",
       "      <td>...</td>\n",
       "      <td>96</td>\n",
       "      <td>20</td>\n",
       "      <td>35</td>\n",
       "      <td>24</td>\n",
       "      <td>6</td>\n",
       "      <td>11</td>\n",
       "      <td>15</td>\n",
       "      <td>14</td>\n",
       "      <td>8</td>\n",
       "      <td>NaN</td>\n",
       "    </tr>\n",
       "    <tr>\n",
       "      <th>1</th>\n",
       "      <td>188545</td>\n",
       "      <td>92</td>\n",
       "      <td>92</td>\n",
       "      <td>119500000.0</td>\n",
       "      <td>270000.0</td>\n",
       "      <td>32</td>\n",
       "      <td>185</td>\n",
       "      <td>81</td>\n",
       "      <td>21.0</td>\n",
       "      <td>1.0</td>\n",
       "      <td>...</td>\n",
       "      <td>88</td>\n",
       "      <td>35</td>\n",
       "      <td>42</td>\n",
       "      <td>19</td>\n",
       "      <td>15</td>\n",
       "      <td>6</td>\n",
       "      <td>12</td>\n",
       "      <td>8</td>\n",
       "      <td>10</td>\n",
       "      <td>NaN</td>\n",
       "    </tr>\n",
       "    <tr>\n",
       "      <th>2</th>\n",
       "      <td>20801</td>\n",
       "      <td>91</td>\n",
       "      <td>91</td>\n",
       "      <td>45000000.0</td>\n",
       "      <td>270000.0</td>\n",
       "      <td>36</td>\n",
       "      <td>187</td>\n",
       "      <td>83</td>\n",
       "      <td>11.0</td>\n",
       "      <td>1.0</td>\n",
       "      <td>...</td>\n",
       "      <td>95</td>\n",
       "      <td>24</td>\n",
       "      <td>32</td>\n",
       "      <td>24</td>\n",
       "      <td>7</td>\n",
       "      <td>11</td>\n",
       "      <td>15</td>\n",
       "      <td>14</td>\n",
       "      <td>11</td>\n",
       "      <td>NaN</td>\n",
       "    </tr>\n",
       "    <tr>\n",
       "      <th>3</th>\n",
       "      <td>190871</td>\n",
       "      <td>91</td>\n",
       "      <td>91</td>\n",
       "      <td>129000000.0</td>\n",
       "      <td>270000.0</td>\n",
       "      <td>29</td>\n",
       "      <td>175</td>\n",
       "      <td>68</td>\n",
       "      <td>73.0</td>\n",
       "      <td>1.0</td>\n",
       "      <td>...</td>\n",
       "      <td>93</td>\n",
       "      <td>35</td>\n",
       "      <td>32</td>\n",
       "      <td>29</td>\n",
       "      <td>9</td>\n",
       "      <td>9</td>\n",
       "      <td>15</td>\n",
       "      <td>15</td>\n",
       "      <td>11</td>\n",
       "      <td>NaN</td>\n",
       "    </tr>\n",
       "    <tr>\n",
       "      <th>4</th>\n",
       "      <td>192985</td>\n",
       "      <td>91</td>\n",
       "      <td>91</td>\n",
       "      <td>125500000.0</td>\n",
       "      <td>350000.0</td>\n",
       "      <td>30</td>\n",
       "      <td>181</td>\n",
       "      <td>70</td>\n",
       "      <td>10.0</td>\n",
       "      <td>1.0</td>\n",
       "      <td>...</td>\n",
       "      <td>89</td>\n",
       "      <td>68</td>\n",
       "      <td>65</td>\n",
       "      <td>53</td>\n",
       "      <td>15</td>\n",
       "      <td>13</td>\n",
       "      <td>5</td>\n",
       "      <td>10</td>\n",
       "      <td>13</td>\n",
       "      <td>NaN</td>\n",
       "    </tr>\n",
       "    <tr>\n",
       "      <th>...</th>\n",
       "      <td>...</td>\n",
       "      <td>...</td>\n",
       "      <td>...</td>\n",
       "      <td>...</td>\n",
       "      <td>...</td>\n",
       "      <td>...</td>\n",
       "      <td>...</td>\n",
       "      <td>...</td>\n",
       "      <td>...</td>\n",
       "      <td>...</td>\n",
       "      <td>...</td>\n",
       "      <td>...</td>\n",
       "      <td>...</td>\n",
       "      <td>...</td>\n",
       "      <td>...</td>\n",
       "      <td>...</td>\n",
       "      <td>...</td>\n",
       "      <td>...</td>\n",
       "      <td>...</td>\n",
       "      <td>...</td>\n",
       "      <td>...</td>\n",
       "    </tr>\n",
       "    <tr>\n",
       "      <th>19234</th>\n",
       "      <td>261962</td>\n",
       "      <td>47</td>\n",
       "      <td>52</td>\n",
       "      <td>70000.0</td>\n",
       "      <td>1000.0</td>\n",
       "      <td>22</td>\n",
       "      <td>180</td>\n",
       "      <td>64</td>\n",
       "      <td>112541.0</td>\n",
       "      <td>1.0</td>\n",
       "      <td>...</td>\n",
       "      <td>37</td>\n",
       "      <td>38</td>\n",
       "      <td>43</td>\n",
       "      <td>48</td>\n",
       "      <td>6</td>\n",
       "      <td>10</td>\n",
       "      <td>5</td>\n",
       "      <td>15</td>\n",
       "      <td>13</td>\n",
       "      <td>NaN</td>\n",
       "    </tr>\n",
       "    <tr>\n",
       "      <th>19235</th>\n",
       "      <td>262040</td>\n",
       "      <td>47</td>\n",
       "      <td>59</td>\n",
       "      <td>110000.0</td>\n",
       "      <td>500.0</td>\n",
       "      <td>19</td>\n",
       "      <td>175</td>\n",
       "      <td>70</td>\n",
       "      <td>445.0</td>\n",
       "      <td>1.0</td>\n",
       "      <td>...</td>\n",
       "      <td>47</td>\n",
       "      <td>37</td>\n",
       "      <td>44</td>\n",
       "      <td>47</td>\n",
       "      <td>11</td>\n",
       "      <td>12</td>\n",
       "      <td>6</td>\n",
       "      <td>8</td>\n",
       "      <td>10</td>\n",
       "      <td>NaN</td>\n",
       "    </tr>\n",
       "    <tr>\n",
       "      <th>19236</th>\n",
       "      <td>262760</td>\n",
       "      <td>47</td>\n",
       "      <td>55</td>\n",
       "      <td>100000.0</td>\n",
       "      <td>500.0</td>\n",
       "      <td>21</td>\n",
       "      <td>178</td>\n",
       "      <td>72</td>\n",
       "      <td>111131.0</td>\n",
       "      <td>1.0</td>\n",
       "      <td>...</td>\n",
       "      <td>36</td>\n",
       "      <td>38</td>\n",
       "      <td>44</td>\n",
       "      <td>48</td>\n",
       "      <td>8</td>\n",
       "      <td>6</td>\n",
       "      <td>7</td>\n",
       "      <td>10</td>\n",
       "      <td>6</td>\n",
       "      <td>NaN</td>\n",
       "    </tr>\n",
       "    <tr>\n",
       "      <th>19237</th>\n",
       "      <td>262820</td>\n",
       "      <td>47</td>\n",
       "      <td>60</td>\n",
       "      <td>110000.0</td>\n",
       "      <td>500.0</td>\n",
       "      <td>19</td>\n",
       "      <td>173</td>\n",
       "      <td>66</td>\n",
       "      <td>111131.0</td>\n",
       "      <td>1.0</td>\n",
       "      <td>...</td>\n",
       "      <td>47</td>\n",
       "      <td>10</td>\n",
       "      <td>14</td>\n",
       "      <td>11</td>\n",
       "      <td>7</td>\n",
       "      <td>10</td>\n",
       "      <td>7</td>\n",
       "      <td>14</td>\n",
       "      <td>15</td>\n",
       "      <td>NaN</td>\n",
       "    </tr>\n",
       "    <tr>\n",
       "      <th>19238</th>\n",
       "      <td>264540</td>\n",
       "      <td>47</td>\n",
       "      <td>60</td>\n",
       "      <td>110000.0</td>\n",
       "      <td>500.0</td>\n",
       "      <td>19</td>\n",
       "      <td>167</td>\n",
       "      <td>61</td>\n",
       "      <td>113040.0</td>\n",
       "      <td>1.0</td>\n",
       "      <td>...</td>\n",
       "      <td>36</td>\n",
       "      <td>33</td>\n",
       "      <td>31</td>\n",
       "      <td>37</td>\n",
       "      <td>8</td>\n",
       "      <td>13</td>\n",
       "      <td>13</td>\n",
       "      <td>9</td>\n",
       "      <td>14</td>\n",
       "      <td>NaN</td>\n",
       "    </tr>\n",
       "  </tbody>\n",
       "</table>\n",
       "<p>19239 rows × 60 columns</p>\n",
       "</div>"
      ],
      "text/plain": [
       "       sofifa_id  overall  potential    value_eur  wage_eur  age  height_cm  \\\n",
       "0         158023       93         93   78000000.0  320000.0   34        170   \n",
       "1         188545       92         92  119500000.0  270000.0   32        185   \n",
       "2          20801       91         91   45000000.0  270000.0   36        187   \n",
       "3         190871       91         91  129000000.0  270000.0   29        175   \n",
       "4         192985       91         91  125500000.0  350000.0   30        181   \n",
       "...          ...      ...        ...          ...       ...  ...        ...   \n",
       "19234     261962       47         52      70000.0    1000.0   22        180   \n",
       "19235     262040       47         59     110000.0     500.0   19        175   \n",
       "19236     262760       47         55     100000.0     500.0   21        178   \n",
       "19237     262820       47         60     110000.0     500.0   19        173   \n",
       "19238     264540       47         60     110000.0     500.0   19        167   \n",
       "\n",
       "       weight_kg  club_team_id  league_level  ...  mentality_composure  \\\n",
       "0             72          73.0           1.0  ...                   96   \n",
       "1             81          21.0           1.0  ...                   88   \n",
       "2             83          11.0           1.0  ...                   95   \n",
       "3             68          73.0           1.0  ...                   93   \n",
       "4             70          10.0           1.0  ...                   89   \n",
       "...          ...           ...           ...  ...                  ...   \n",
       "19234         64      112541.0           1.0  ...                   37   \n",
       "19235         70         445.0           1.0  ...                   47   \n",
       "19236         72      111131.0           1.0  ...                   36   \n",
       "19237         66      111131.0           1.0  ...                   47   \n",
       "19238         61      113040.0           1.0  ...                   36   \n",
       "\n",
       "       defending_marking_awareness  defending_standing_tackle  \\\n",
       "0                               20                         35   \n",
       "1                               35                         42   \n",
       "2                               24                         32   \n",
       "3                               35                         32   \n",
       "4                               68                         65   \n",
       "...                            ...                        ...   \n",
       "19234                           38                         43   \n",
       "19235                           37                         44   \n",
       "19236                           38                         44   \n",
       "19237                           10                         14   \n",
       "19238                           33                         31   \n",
       "\n",
       "       defending_sliding_tackle  goalkeeping_diving  goalkeeping_handling  \\\n",
       "0                            24                   6                    11   \n",
       "1                            19                  15                     6   \n",
       "2                            24                   7                    11   \n",
       "3                            29                   9                     9   \n",
       "4                            53                  15                    13   \n",
       "...                         ...                 ...                   ...   \n",
       "19234                        48                   6                    10   \n",
       "19235                        47                  11                    12   \n",
       "19236                        48                   8                     6   \n",
       "19237                        11                   7                    10   \n",
       "19238                        37                   8                    13   \n",
       "\n",
       "       goalkeeping_kicking  goalkeeping_positioning  goalkeeping_reflexes  \\\n",
       "0                       15                       14                     8   \n",
       "1                       12                        8                    10   \n",
       "2                       15                       14                    11   \n",
       "3                       15                       15                    11   \n",
       "4                        5                       10                    13   \n",
       "...                    ...                      ...                   ...   \n",
       "19234                    5                       15                    13   \n",
       "19235                    6                        8                    10   \n",
       "19236                    7                       10                     6   \n",
       "19237                    7                       14                    15   \n",
       "19238                   13                        9                    14   \n",
       "\n",
       "       goalkeeping_speed  \n",
       "0                    NaN  \n",
       "1                    NaN  \n",
       "2                    NaN  \n",
       "3                    NaN  \n",
       "4                    NaN  \n",
       "...                  ...  \n",
       "19234                NaN  \n",
       "19235                NaN  \n",
       "19236                NaN  \n",
       "19237                NaN  \n",
       "19238                NaN  \n",
       "\n",
       "[19239 rows x 60 columns]"
      ]
     },
     "execution_count": 10,
     "metadata": {},
     "output_type": "execute_result"
    }
   ],
   "source": [
    "df.select_dtypes(include='number')"
   ]
  },
  {
   "cell_type": "code",
   "execution_count": 12,
   "id": "6db58059",
   "metadata": {},
   "outputs": [
    {
     "data": {
      "text/html": [
       "<div>\n",
       "<style scoped>\n",
       "    .dataframe tbody tr th:only-of-type {\n",
       "        vertical-align: middle;\n",
       "    }\n",
       "\n",
       "    .dataframe tbody tr th {\n",
       "        vertical-align: top;\n",
       "    }\n",
       "\n",
       "    .dataframe thead th {\n",
       "        text-align: right;\n",
       "    }\n",
       "</style>\n",
       "<table border=\"1\" class=\"dataframe\">\n",
       "  <thead>\n",
       "    <tr style=\"text-align: right;\">\n",
       "      <th></th>\n",
       "      <th>sofifa_id</th>\n",
       "      <th>overall</th>\n",
       "      <th>potential</th>\n",
       "      <th>value_eur</th>\n",
       "      <th>wage_eur</th>\n",
       "      <th>age</th>\n",
       "      <th>height_cm</th>\n",
       "      <th>weight_kg</th>\n",
       "      <th>club_team_id</th>\n",
       "      <th>league_level</th>\n",
       "      <th>...</th>\n",
       "      <th>mentality_composure</th>\n",
       "      <th>defending_marking_awareness</th>\n",
       "      <th>defending_standing_tackle</th>\n",
       "      <th>defending_sliding_tackle</th>\n",
       "      <th>goalkeeping_diving</th>\n",
       "      <th>goalkeeping_handling</th>\n",
       "      <th>goalkeeping_kicking</th>\n",
       "      <th>goalkeeping_positioning</th>\n",
       "      <th>goalkeeping_reflexes</th>\n",
       "      <th>goalkeeping_speed</th>\n",
       "    </tr>\n",
       "  </thead>\n",
       "  <tbody>\n",
       "    <tr>\n",
       "      <th>count</th>\n",
       "      <td>19239.000000</td>\n",
       "      <td>19239.000000</td>\n",
       "      <td>19239.000000</td>\n",
       "      <td>1.916500e+04</td>\n",
       "      <td>19178.000000</td>\n",
       "      <td>19239.000000</td>\n",
       "      <td>19239.000000</td>\n",
       "      <td>19239.000000</td>\n",
       "      <td>19178.000000</td>\n",
       "      <td>19178.000000</td>\n",
       "      <td>...</td>\n",
       "      <td>19239.000000</td>\n",
       "      <td>19239.000000</td>\n",
       "      <td>19239.000000</td>\n",
       "      <td>19239.000000</td>\n",
       "      <td>19239.000000</td>\n",
       "      <td>19239.000000</td>\n",
       "      <td>19239.000000</td>\n",
       "      <td>19239.000000</td>\n",
       "      <td>19239.000000</td>\n",
       "      <td>2132.000000</td>\n",
       "    </tr>\n",
       "    <tr>\n",
       "      <th>mean</th>\n",
       "      <td>231468.086959</td>\n",
       "      <td>65.772182</td>\n",
       "      <td>71.079370</td>\n",
       "      <td>2.850452e+06</td>\n",
       "      <td>9017.989363</td>\n",
       "      <td>25.210822</td>\n",
       "      <td>181.299704</td>\n",
       "      <td>74.943032</td>\n",
       "      <td>50580.498123</td>\n",
       "      <td>1.354364</td>\n",
       "      <td>...</td>\n",
       "      <td>57.929830</td>\n",
       "      <td>46.601746</td>\n",
       "      <td>48.045584</td>\n",
       "      <td>45.906700</td>\n",
       "      <td>16.406102</td>\n",
       "      <td>16.192474</td>\n",
       "      <td>16.055356</td>\n",
       "      <td>16.229274</td>\n",
       "      <td>16.491814</td>\n",
       "      <td>36.439962</td>\n",
       "    </tr>\n",
       "    <tr>\n",
       "      <th>std</th>\n",
       "      <td>27039.717497</td>\n",
       "      <td>6.880232</td>\n",
       "      <td>6.086213</td>\n",
       "      <td>7.613700e+06</td>\n",
       "      <td>19470.176724</td>\n",
       "      <td>4.748235</td>\n",
       "      <td>6.863179</td>\n",
       "      <td>7.069434</td>\n",
       "      <td>54401.868535</td>\n",
       "      <td>0.747865</td>\n",
       "      <td>...</td>\n",
       "      <td>12.159326</td>\n",
       "      <td>20.200807</td>\n",
       "      <td>21.232718</td>\n",
       "      <td>20.755683</td>\n",
       "      <td>17.574028</td>\n",
       "      <td>16.839528</td>\n",
       "      <td>16.564554</td>\n",
       "      <td>17.059779</td>\n",
       "      <td>17.884833</td>\n",
       "      <td>10.751563</td>\n",
       "    </tr>\n",
       "    <tr>\n",
       "      <th>min</th>\n",
       "      <td>41.000000</td>\n",
       "      <td>47.000000</td>\n",
       "      <td>49.000000</td>\n",
       "      <td>9.000000e+03</td>\n",
       "      <td>500.000000</td>\n",
       "      <td>16.000000</td>\n",
       "      <td>155.000000</td>\n",
       "      <td>49.000000</td>\n",
       "      <td>1.000000</td>\n",
       "      <td>1.000000</td>\n",
       "      <td>...</td>\n",
       "      <td>12.000000</td>\n",
       "      <td>4.000000</td>\n",
       "      <td>5.000000</td>\n",
       "      <td>5.000000</td>\n",
       "      <td>2.000000</td>\n",
       "      <td>2.000000</td>\n",
       "      <td>2.000000</td>\n",
       "      <td>2.000000</td>\n",
       "      <td>2.000000</td>\n",
       "      <td>15.000000</td>\n",
       "    </tr>\n",
       "    <tr>\n",
       "      <th>25%</th>\n",
       "      <td>214413.500000</td>\n",
       "      <td>61.000000</td>\n",
       "      <td>67.000000</td>\n",
       "      <td>4.750000e+05</td>\n",
       "      <td>1000.000000</td>\n",
       "      <td>21.000000</td>\n",
       "      <td>176.000000</td>\n",
       "      <td>70.000000</td>\n",
       "      <td>479.000000</td>\n",
       "      <td>1.000000</td>\n",
       "      <td>...</td>\n",
       "      <td>50.000000</td>\n",
       "      <td>29.000000</td>\n",
       "      <td>28.000000</td>\n",
       "      <td>25.000000</td>\n",
       "      <td>8.000000</td>\n",
       "      <td>8.000000</td>\n",
       "      <td>8.000000</td>\n",
       "      <td>8.000000</td>\n",
       "      <td>8.000000</td>\n",
       "      <td>27.000000</td>\n",
       "    </tr>\n",
       "    <tr>\n",
       "      <th>50%</th>\n",
       "      <td>236543.000000</td>\n",
       "      <td>66.000000</td>\n",
       "      <td>71.000000</td>\n",
       "      <td>9.750000e+05</td>\n",
       "      <td>3000.000000</td>\n",
       "      <td>25.000000</td>\n",
       "      <td>181.000000</td>\n",
       "      <td>75.000000</td>\n",
       "      <td>1938.000000</td>\n",
       "      <td>1.000000</td>\n",
       "      <td>...</td>\n",
       "      <td>59.000000</td>\n",
       "      <td>52.000000</td>\n",
       "      <td>56.000000</td>\n",
       "      <td>53.000000</td>\n",
       "      <td>11.000000</td>\n",
       "      <td>11.000000</td>\n",
       "      <td>11.000000</td>\n",
       "      <td>11.000000</td>\n",
       "      <td>11.000000</td>\n",
       "      <td>36.000000</td>\n",
       "    </tr>\n",
       "    <tr>\n",
       "      <th>75%</th>\n",
       "      <td>253532.500000</td>\n",
       "      <td>70.000000</td>\n",
       "      <td>75.000000</td>\n",
       "      <td>2.000000e+06</td>\n",
       "      <td>8000.000000</td>\n",
       "      <td>29.000000</td>\n",
       "      <td>186.000000</td>\n",
       "      <td>80.000000</td>\n",
       "      <td>111139.000000</td>\n",
       "      <td>1.000000</td>\n",
       "      <td>...</td>\n",
       "      <td>66.000000</td>\n",
       "      <td>63.000000</td>\n",
       "      <td>65.000000</td>\n",
       "      <td>63.000000</td>\n",
       "      <td>14.000000</td>\n",
       "      <td>14.000000</td>\n",
       "      <td>14.000000</td>\n",
       "      <td>14.000000</td>\n",
       "      <td>14.000000</td>\n",
       "      <td>45.000000</td>\n",
       "    </tr>\n",
       "    <tr>\n",
       "      <th>max</th>\n",
       "      <td>264640.000000</td>\n",
       "      <td>93.000000</td>\n",
       "      <td>95.000000</td>\n",
       "      <td>1.940000e+08</td>\n",
       "      <td>350000.000000</td>\n",
       "      <td>54.000000</td>\n",
       "      <td>206.000000</td>\n",
       "      <td>110.000000</td>\n",
       "      <td>115820.000000</td>\n",
       "      <td>5.000000</td>\n",
       "      <td>...</td>\n",
       "      <td>96.000000</td>\n",
       "      <td>93.000000</td>\n",
       "      <td>93.000000</td>\n",
       "      <td>92.000000</td>\n",
       "      <td>91.000000</td>\n",
       "      <td>92.000000</td>\n",
       "      <td>93.000000</td>\n",
       "      <td>92.000000</td>\n",
       "      <td>90.000000</td>\n",
       "      <td>65.000000</td>\n",
       "    </tr>\n",
       "  </tbody>\n",
       "</table>\n",
       "<p>8 rows × 60 columns</p>\n",
       "</div>"
      ],
      "text/plain": [
       "           sofifa_id       overall     potential     value_eur       wage_eur  \\\n",
       "count   19239.000000  19239.000000  19239.000000  1.916500e+04   19178.000000   \n",
       "mean   231468.086959     65.772182     71.079370  2.850452e+06    9017.989363   \n",
       "std     27039.717497      6.880232      6.086213  7.613700e+06   19470.176724   \n",
       "min        41.000000     47.000000     49.000000  9.000000e+03     500.000000   \n",
       "25%    214413.500000     61.000000     67.000000  4.750000e+05    1000.000000   \n",
       "50%    236543.000000     66.000000     71.000000  9.750000e+05    3000.000000   \n",
       "75%    253532.500000     70.000000     75.000000  2.000000e+06    8000.000000   \n",
       "max    264640.000000     93.000000     95.000000  1.940000e+08  350000.000000   \n",
       "\n",
       "                age     height_cm     weight_kg   club_team_id  league_level  \\\n",
       "count  19239.000000  19239.000000  19239.000000   19178.000000  19178.000000   \n",
       "mean      25.210822    181.299704     74.943032   50580.498123      1.354364   \n",
       "std        4.748235      6.863179      7.069434   54401.868535      0.747865   \n",
       "min       16.000000    155.000000     49.000000       1.000000      1.000000   \n",
       "25%       21.000000    176.000000     70.000000     479.000000      1.000000   \n",
       "50%       25.000000    181.000000     75.000000    1938.000000      1.000000   \n",
       "75%       29.000000    186.000000     80.000000  111139.000000      1.000000   \n",
       "max       54.000000    206.000000    110.000000  115820.000000      5.000000   \n",
       "\n",
       "       ...  mentality_composure  defending_marking_awareness  \\\n",
       "count  ...         19239.000000                 19239.000000   \n",
       "mean   ...            57.929830                    46.601746   \n",
       "std    ...            12.159326                    20.200807   \n",
       "min    ...            12.000000                     4.000000   \n",
       "25%    ...            50.000000                    29.000000   \n",
       "50%    ...            59.000000                    52.000000   \n",
       "75%    ...            66.000000                    63.000000   \n",
       "max    ...            96.000000                    93.000000   \n",
       "\n",
       "       defending_standing_tackle  defending_sliding_tackle  \\\n",
       "count               19239.000000              19239.000000   \n",
       "mean                   48.045584                 45.906700   \n",
       "std                    21.232718                 20.755683   \n",
       "min                     5.000000                  5.000000   \n",
       "25%                    28.000000                 25.000000   \n",
       "50%                    56.000000                 53.000000   \n",
       "75%                    65.000000                 63.000000   \n",
       "max                    93.000000                 92.000000   \n",
       "\n",
       "       goalkeeping_diving  goalkeeping_handling  goalkeeping_kicking  \\\n",
       "count        19239.000000          19239.000000         19239.000000   \n",
       "mean            16.406102             16.192474            16.055356   \n",
       "std             17.574028             16.839528            16.564554   \n",
       "min              2.000000              2.000000             2.000000   \n",
       "25%              8.000000              8.000000             8.000000   \n",
       "50%             11.000000             11.000000            11.000000   \n",
       "75%             14.000000             14.000000            14.000000   \n",
       "max             91.000000             92.000000            93.000000   \n",
       "\n",
       "       goalkeeping_positioning  goalkeeping_reflexes  goalkeeping_speed  \n",
       "count             19239.000000          19239.000000        2132.000000  \n",
       "mean                 16.229274             16.491814          36.439962  \n",
       "std                  17.059779             17.884833          10.751563  \n",
       "min                   2.000000              2.000000          15.000000  \n",
       "25%                   8.000000              8.000000          27.000000  \n",
       "50%                  11.000000             11.000000          36.000000  \n",
       "75%                  14.000000             14.000000          45.000000  \n",
       "max                  92.000000             90.000000          65.000000  \n",
       "\n",
       "[8 rows x 60 columns]"
      ]
     },
     "execution_count": 12,
     "metadata": {},
     "output_type": "execute_result"
    }
   ],
   "source": [
    "df.describe()\n"
   ]
  },
  {
   "cell_type": "code",
   "execution_count": 13,
   "id": "5f793d1a",
   "metadata": {},
   "outputs": [
    {
     "data": {
      "text/plain": [
       "(19239, 110)"
      ]
     },
     "execution_count": 13,
     "metadata": {},
     "output_type": "execute_result"
    }
   ],
   "source": [
    "df.shape"
   ]
  },
  {
   "cell_type": "code",
   "execution_count": 5,
   "id": "142067f4",
   "metadata": {},
   "outputs": [
    {
     "data": {
      "text/plain": [
       "sofifa_id            int64\n",
       "player_url          object\n",
       "short_name          object\n",
       "long_name           object\n",
       "player_positions    object\n",
       "                     ...  \n",
       "player_face_url     object\n",
       "club_logo_url       object\n",
       "club_flag_url       object\n",
       "nation_logo_url     object\n",
       "nation_flag_url     object\n",
       "Length: 110, dtype: object"
      ]
     },
     "execution_count": 5,
     "metadata": {},
     "output_type": "execute_result"
    }
   ],
   "source": [
    "df.dtypes"
   ]
  },
  {
   "cell_type": "code",
   "execution_count": null,
   "id": "fd205971",
   "metadata": {},
   "outputs": [],
   "source": []
  },
  {
   "cell_type": "code",
   "execution_count": 6,
   "id": "eb18a5cb",
   "metadata": {},
   "outputs": [
    {
     "data": {
      "text/plain": [
       "Index(['sofifa_id', 'player_url', 'short_name', 'long_name',\n",
       "       'player_positions', 'overall', 'potential', 'value_eur', 'wage_eur',\n",
       "       'age',\n",
       "       ...\n",
       "       'lcb', 'cb', 'rcb', 'rb', 'gk', 'player_face_url', 'club_logo_url',\n",
       "       'club_flag_url', 'nation_logo_url', 'nation_flag_url'],\n",
       "      dtype='object', length=110)"
      ]
     },
     "execution_count": 6,
     "metadata": {},
     "output_type": "execute_result"
    }
   ],
   "source": [
    "df.columns"
   ]
  },
  {
   "cell_type": "code",
   "execution_count": 8,
   "id": "ed4f6cdb",
   "metadata": {},
   "outputs": [],
   "source": [
    "#Here are the highest work load by age"
   ]
  },
  {
   "cell_type": "code",
   "execution_count": 4,
   "id": "32e62550",
   "metadata": {},
   "outputs": [
    {
     "data": {
      "text/plain": [
       "work_rate\n",
       "High/High        350000.0\n",
       "High/Low         270000.0\n",
       "High/Medium      290000.0\n",
       "Low/High         140000.0\n",
       "Low/Low          130000.0\n",
       "Low/Medium       125000.0\n",
       "Medium/High      230000.0\n",
       "Medium/Low       320000.0\n",
       "Medium/Medium    350000.0\n",
       "Name: wage_eur, dtype: float64"
      ]
     },
     "execution_count": 4,
     "metadata": {},
     "output_type": "execute_result"
    }
   ],
   "source": [
    "df.groupby(\"work_rate\")[\"wage_eur\"].max()"
   ]
  },
  {
   "cell_type": "code",
   "execution_count": null,
   "id": "6a99ebe3",
   "metadata": {},
   "outputs": [],
   "source": [
    "#ploting this on graph to know more better way in visulation "
   ]
  },
  {
   "cell_type": "code",
   "execution_count": 9,
   "id": "b9df9bc0",
   "metadata": {},
   "outputs": [
    {
     "data": {
      "image/png": "[encoded data removed]",
      "text/plain": [
       "<Figure size 640x480 with 1 Axes>"
      ]
     },
     "metadata": {},
     "output_type": "display_data"
    }
   ],
   "source": [
    "df.groupby(\"work_rate\")[\"wage_eur\"].max().plot.bar()\n",
    "plt.xlabel(\"Work Rate\") \n",
    "plt.ylabel(\"Wages in EUR\")\n",
    "plt.title(\"Wages by level of Workrate\", fontsize = 15)\n",
    "plt.show()"
   ]
  },
  {
   "cell_type": "code",
   "execution_count": null,
   "id": "a5bd4a8a",
   "metadata": {},
   "outputs": [],
   "source": [
    "# so as we can see highest payer also have high work rate."
   ]
  },
  {
   "cell_type": "code",
   "execution_count": null,
   "id": "8203ff8e",
   "metadata": {},
   "outputs": [],
   "source": [
    "#which country is most popular in fifa 22"
   ]
  },
  {
   "cell_type": "code",
   "execution_count": 22,
   "id": "54d220c2",
   "metadata": {},
   "outputs": [
    {
     "data": {
      "text/plain": [
       "England             1719\n",
       "Germany             1214\n",
       "Spain               1086\n",
       "France               980\n",
       "Argentina            960\n",
       "                    ... \n",
       "Ethiopia               1\n",
       "Papua New Guinea       1\n",
       "Kyrgyzstan             1\n",
       "Guam                   1\n",
       "Indonesia              1\n",
       "Name: nationality_name, Length: 163, dtype: int64"
      ]
     },
     "execution_count": 22,
     "metadata": {},
     "output_type": "execute_result"
    }
   ],
   "source": [
    "df['nationality_name'].value_counts()"
   ]
  },
  {
   "cell_type": "code",
   "execution_count": null,
   "id": "cde17081",
   "metadata": {},
   "outputs": [],
   "source": [
    "#top 5 nations wise popularity chart"
   ]
  },
  {
   "cell_type": "code",
   "execution_count": 60,
   "id": "170fb754",
   "metadata": {},
   "outputs": [
    {
     "data": {
      "image/png": "[encoded data removed]",
      "text/plain": [
       "<Figure size 640x480 with 1 Axes>"
      ]
     },
     "metadata": {},
     "output_type": "display_data"
    }
   ],
   "source": [
    "value = np.array([1719, 1214, 1086, 980,960])\n",
    "nation = [\"England\", \"Germany\", \"spain\", \"france\", \"Argentina\"]\n",
    "\n",
    "plt.pie(value , labels = nation)\n",
    "plt.show() "
   ]
  },
  {
   "cell_type": "markdown",
   "id": "a61a13bf",
   "metadata": {},
   "source": [
    "Players potential with their value\n"
   ]
  },
  {
   "cell_type": "code",
   "execution_count": 64,
   "id": "ade518f6",
   "metadata": {},
   "outputs": [
    {
     "data": {
      "image/png": "[encoded data removed]",
      "text/plain": [
       "<Figure size 640x480 with 1 Axes>"
      ]
     },
     "metadata": {},
     "output_type": "display_data"
    }
   ],
   "source": [
    "plt.scatter(x=df['potential'], y=df['value_eur'] )\n",
    "plt.xlabel(\"potential\") \n",
    "plt.ylabel(\"Value in EUR\")\n",
    "plt.title(\"Potential & Value in EUR\")\n",
    "plt.show()"
   ]
  },
  {
   "cell_type": "code",
   "execution_count": null,
   "id": "d89a248e",
   "metadata": {},
   "outputs": [],
   "source": [
    "# wage rate and potential relationship"
   ]
  },
  {
   "cell_type": "code",
   "execution_count": 63,
   "id": "130b2c68",
   "metadata": {},
   "outputs": [
    {
     "data": {
      "image/png": "[encoded data removed]",
      "text/plain": [
       "<Figure size 640x480 with 1 Axes>"
      ]
     },
     "metadata": {},
     "output_type": "display_data"
    }
   ],
   "source": [
    "ax = sns.scatterplot(x =df['potential'], y = df['wage_eur'])\n",
    "plt.xlabel(\"Potential\") \n",
    "plt.ylabel(\"Wage EUR\")\n",
    "plt.title(\"Potential & wage\")\n",
    "plt.show()"
   ]
  },
  {
   "cell_type": "code",
   "execution_count": 68,
   "id": "b3bd0cb7",
   "metadata": {},
   "outputs": [],
   "source": [
    "#TOP 10 PLAYERS PAID HIGHEST WAGES"
   ]
  },
  {
   "cell_type": "code",
   "execution_count": 71,
   "id": "bc47bcd1",
   "metadata": {},
   "outputs": [
    {
     "data": {
      "text/html": [
       "<div>\n",
       "<style scoped>\n",
       "    .dataframe tbody tr th:only-of-type {\n",
       "        vertical-align: middle;\n",
       "    }\n",
       "\n",
       "    .dataframe tbody tr th {\n",
       "        vertical-align: top;\n",
       "    }\n",
       "\n",
       "    .dataframe thead th {\n",
       "        text-align: right;\n",
       "    }\n",
       "</style>\n",
       "<table border=\"1\" class=\"dataframe\">\n",
       "  <thead>\n",
       "    <tr style=\"text-align: right;\">\n",
       "      <th></th>\n",
       "      <th>wage_eur</th>\n",
       "      <th>value_eur</th>\n",
       "      <th>overall</th>\n",
       "      <th>age</th>\n",
       "      <th>nationality_name</th>\n",
       "      <th>potential</th>\n",
       "      <th>international_reputation</th>\n",
       "    </tr>\n",
       "    <tr>\n",
       "      <th>short_name</th>\n",
       "      <th></th>\n",
       "      <th></th>\n",
       "      <th></th>\n",
       "      <th></th>\n",
       "      <th></th>\n",
       "      <th></th>\n",
       "      <th></th>\n",
       "    </tr>\n",
       "  </thead>\n",
       "  <tbody>\n",
       "    <tr>\n",
       "      <th>K. De Bruyne</th>\n",
       "      <td>350000.0</td>\n",
       "      <td>125500000.0</td>\n",
       "      <td>91</td>\n",
       "      <td>30</td>\n",
       "      <td>Belgium</td>\n",
       "      <td>91</td>\n",
       "      <td>4</td>\n",
       "    </tr>\n",
       "    <tr>\n",
       "      <th>K. Benzema</th>\n",
       "      <td>350000.0</td>\n",
       "      <td>66000000.0</td>\n",
       "      <td>89</td>\n",
       "      <td>33</td>\n",
       "      <td>France</td>\n",
       "      <td>89</td>\n",
       "      <td>4</td>\n",
       "    </tr>\n",
       "    <tr>\n",
       "      <th>L. Messi</th>\n",
       "      <td>320000.0</td>\n",
       "      <td>78000000.0</td>\n",
       "      <td>93</td>\n",
       "      <td>34</td>\n",
       "      <td>Argentina</td>\n",
       "      <td>93</td>\n",
       "      <td>5</td>\n",
       "    </tr>\n",
       "    <tr>\n",
       "      <th>Casemiro</th>\n",
       "      <td>310000.0</td>\n",
       "      <td>88000000.0</td>\n",
       "      <td>89</td>\n",
       "      <td>29</td>\n",
       "      <td>Brazil</td>\n",
       "      <td>89</td>\n",
       "      <td>3</td>\n",
       "    </tr>\n",
       "    <tr>\n",
       "      <th>T. Kroos</th>\n",
       "      <td>310000.0</td>\n",
       "      <td>75000000.0</td>\n",
       "      <td>88</td>\n",
       "      <td>31</td>\n",
       "      <td>Germany</td>\n",
       "      <td>88</td>\n",
       "      <td>4</td>\n",
       "    </tr>\n",
       "    <tr>\n",
       "      <th>R. Sterling</th>\n",
       "      <td>290000.0</td>\n",
       "      <td>107500000.0</td>\n",
       "      <td>88</td>\n",
       "      <td>26</td>\n",
       "      <td>England</td>\n",
       "      <td>89</td>\n",
       "      <td>4</td>\n",
       "    </tr>\n",
       "    <tr>\n",
       "      <th>R. Lewandowski</th>\n",
       "      <td>270000.0</td>\n",
       "      <td>119500000.0</td>\n",
       "      <td>92</td>\n",
       "      <td>32</td>\n",
       "      <td>Poland</td>\n",
       "      <td>92</td>\n",
       "      <td>5</td>\n",
       "    </tr>\n",
       "    <tr>\n",
       "      <th>Cristiano Ronaldo</th>\n",
       "      <td>270000.0</td>\n",
       "      <td>45000000.0</td>\n",
       "      <td>91</td>\n",
       "      <td>36</td>\n",
       "      <td>Portugal</td>\n",
       "      <td>91</td>\n",
       "      <td>5</td>\n",
       "    </tr>\n",
       "    <tr>\n",
       "      <th>Neymar Jr</th>\n",
       "      <td>270000.0</td>\n",
       "      <td>129000000.0</td>\n",
       "      <td>91</td>\n",
       "      <td>29</td>\n",
       "      <td>Brazil</td>\n",
       "      <td>91</td>\n",
       "      <td>5</td>\n",
       "    </tr>\n",
       "    <tr>\n",
       "      <th>S. Mané</th>\n",
       "      <td>270000.0</td>\n",
       "      <td>101000000.0</td>\n",
       "      <td>89</td>\n",
       "      <td>29</td>\n",
       "      <td>Senegal</td>\n",
       "      <td>89</td>\n",
       "      <td>4</td>\n",
       "    </tr>\n",
       "  </tbody>\n",
       "</table>\n",
       "</div>"
      ],
      "text/plain": [
       "                   wage_eur    value_eur  overall  age nationality_name  \\\n",
       "short_name                                                                \n",
       "K. De Bruyne       350000.0  125500000.0       91   30          Belgium   \n",
       "K. Benzema         350000.0   66000000.0       89   33           France   \n",
       "L. Messi           320000.0   78000000.0       93   34        Argentina   \n",
       "Casemiro           310000.0   88000000.0       89   29           Brazil   \n",
       "T. Kroos           310000.0   75000000.0       88   31          Germany   \n",
       "R. Sterling        290000.0  107500000.0       88   26          England   \n",
       "R. Lewandowski     270000.0  119500000.0       92   32           Poland   \n",
       "Cristiano Ronaldo  270000.0   45000000.0       91   36         Portugal   \n",
       "Neymar Jr          270000.0  129000000.0       91   29           Brazil   \n",
       "S. Mané            270000.0  101000000.0       89   29          Senegal   \n",
       "\n",
       "                   potential  international_reputation  \n",
       "short_name                                              \n",
       "K. De Bruyne              91                         4  \n",
       "K. Benzema                89                         4  \n",
       "L. Messi                  93                         5  \n",
       "Casemiro                  89                         3  \n",
       "T. Kroos                  88                         4  \n",
       "R. Sterling               89                         4  \n",
       "R. Lewandowski            92                         5  \n",
       "Cristiano Ronaldo         91                         5  \n",
       "Neymar Jr                 91                         5  \n",
       "S. Mané                   89                         4  "
      ]
     },
     "execution_count": 71,
     "metadata": {},
     "output_type": "execute_result"
    }
   ],
   "source": [
    "player_name = df[['wage_eur','short_name',\n",
    "                  'value_eur','overall','age',\n",
    "                  'nationality_name','potential',\n",
    "                  'international_reputation']].nlargest(10,['wage_eur']).set_index('short_name')\n",
    "player_name"
   ]
  },
  {
   "cell_type": "markdown",
   "id": "d8e56ccd",
   "metadata": {},
   "source": [
    "Top 11 player good at everthing"
   ]
  },
  {
   "cell_type": "code",
   "execution_count": 70,
   "id": "3f09d68a",
   "metadata": {},
   "outputs": [
    {
     "data": {
      "image/png": "[encoded data removed]",
      "text/plain": [
       "<Figure size 700x1000 with 1 Axes>"
      ]
     },
     "metadata": {},
     "output_type": "display_data"
    }
   ],
   "source": [
    "Overall = df[\"overall\"]\n",
    "footballer_name = df[\"short_name\"]\n",
    "data = pd.DataFrame({'short_name': footballer_name,'overall':Overall})\n",
    "\n",
    "x = df['short_name'].head(11) \n",
    "y = df['overall'].head(11)\n",
    "plt.figure(figsize=(7,10))\n",
    "\n",
    "\n",
    "ax= sns.barplot(x=y, y=x, palette = 'Blues_r', orient='h')\n",
    "plt.xticks()\n",
    "plt.xlabel('Overall Ratings', size = 11) \n",
    "plt.ylabel('Player Names', size = 11 ) \n",
    "plt.title('FIFA22 Top 11 (Overall Rating)')\n",
    "\n",
    "plt.show()"
   ]
  },
  {
   "cell_type": "markdown",
   "id": "c6a0bd6a",
   "metadata": {},
   "source": [
    "# 1 for Goalkeeper"
   ]
  },
  {
   "cell_type": "code",
   "execution_count": 19,
   "id": "38df99de",
   "metadata": {},
   "outputs": [
    {
     "data": {
      "text/html": [
       "<div>\n",
       "<style scoped>\n",
       "    .dataframe tbody tr th:only-of-type {\n",
       "        vertical-align: middle;\n",
       "    }\n",
       "\n",
       "    .dataframe tbody tr th {\n",
       "        vertical-align: top;\n",
       "    }\n",
       "\n",
       "    .dataframe thead th {\n",
       "        text-align: right;\n",
       "    }\n",
       "</style>\n",
       "<table border=\"1\" class=\"dataframe\">\n",
       "  <thead>\n",
       "    <tr style=\"text-align: right;\">\n",
       "      <th></th>\n",
       "      <th>sofifa_id</th>\n",
       "      <th>player_url</th>\n",
       "      <th>short_name</th>\n",
       "      <th>long_name</th>\n",
       "      <th>player_positions</th>\n",
       "      <th>overall</th>\n",
       "      <th>potential</th>\n",
       "      <th>value_eur</th>\n",
       "      <th>wage_eur</th>\n",
       "      <th>age</th>\n",
       "      <th>...</th>\n",
       "      <th>lcb</th>\n",
       "      <th>cb</th>\n",
       "      <th>rcb</th>\n",
       "      <th>rb</th>\n",
       "      <th>gk</th>\n",
       "      <th>player_face_url</th>\n",
       "      <th>club_logo_url</th>\n",
       "      <th>club_flag_url</th>\n",
       "      <th>nation_logo_url</th>\n",
       "      <th>nation_flag_url</th>\n",
       "    </tr>\n",
       "  </thead>\n",
       "  <tbody>\n",
       "    <tr>\n",
       "      <th>12</th>\n",
       "      <td>192119</td>\n",
       "      <td>https://sofifa.com/player/192119/thibaut-court...</td>\n",
       "      <td>T. Courtois</td>\n",
       "      <td>Thibaut Courtois</td>\n",
       "      <td>GK</td>\n",
       "      <td>89</td>\n",
       "      <td>91</td>\n",
       "      <td>85500000.0</td>\n",
       "      <td>250000.0</td>\n",
       "      <td>29</td>\n",
       "      <td>...</td>\n",
       "      <td>29+3</td>\n",
       "      <td>29+3</td>\n",
       "      <td>29+3</td>\n",
       "      <td>29+3</td>\n",
       "      <td>86+3</td>\n",
       "      <td>https://cdn.sofifa.net/players/192/119/22_120.png</td>\n",
       "      <td>https://cdn.sofifa.net/teams/243/60.png</td>\n",
       "      <td>https://cdn.sofifa.net/flags/es.png</td>\n",
       "      <td>https://cdn.sofifa.net/teams/1325/60.png</td>\n",
       "      <td>https://cdn.sofifa.net/flags/be.png</td>\n",
       "    </tr>\n",
       "    <tr>\n",
       "      <th>2386</th>\n",
       "      <td>243952</td>\n",
       "      <td>https://sofifa.com/player/243952/andriy-lunin/...</td>\n",
       "      <td>A. Lunin</td>\n",
       "      <td>Andriy Lunin</td>\n",
       "      <td>GK</td>\n",
       "      <td>74</td>\n",
       "      <td>85</td>\n",
       "      <td>8000000.0</td>\n",
       "      <td>59000.0</td>\n",
       "      <td>22</td>\n",
       "      <td>...</td>\n",
       "      <td>26+2</td>\n",
       "      <td>26+2</td>\n",
       "      <td>26+2</td>\n",
       "      <td>25+2</td>\n",
       "      <td>73+2</td>\n",
       "      <td>https://cdn.sofifa.net/players/243/952/22_120.png</td>\n",
       "      <td>https://cdn.sofifa.net/teams/243/60.png</td>\n",
       "      <td>https://cdn.sofifa.net/flags/es.png</td>\n",
       "      <td>NaN</td>\n",
       "      <td>https://cdn.sofifa.net/flags/ua.png</td>\n",
       "    </tr>\n",
       "    <tr>\n",
       "      <th>13354</th>\n",
       "      <td>264170</td>\n",
       "      <td>https://sofifa.com/player/264170/luis-federico...</td>\n",
       "      <td>Luis López</td>\n",
       "      <td>Luis Federico López Andúgar</td>\n",
       "      <td>GK</td>\n",
       "      <td>63</td>\n",
       "      <td>76</td>\n",
       "      <td>1000000.0</td>\n",
       "      <td>11000.0</td>\n",
       "      <td>20</td>\n",
       "      <td>...</td>\n",
       "      <td>20+2</td>\n",
       "      <td>20+2</td>\n",
       "      <td>20+2</td>\n",
       "      <td>18+2</td>\n",
       "      <td>62+2</td>\n",
       "      <td>https://cdn.sofifa.net/players/264/170/22_120.png</td>\n",
       "      <td>https://cdn.sofifa.net/teams/243/60.png</td>\n",
       "      <td>https://cdn.sofifa.net/flags/es.png</td>\n",
       "      <td>NaN</td>\n",
       "      <td>https://cdn.sofifa.net/flags/es.png</td>\n",
       "    </tr>\n",
       "  </tbody>\n",
       "</table>\n",
       "<p>3 rows × 110 columns</p>\n",
       "</div>"
      ],
      "text/plain": [
       "       sofifa_id                                         player_url  \\\n",
       "12        192119  https://sofifa.com/player/192119/thibaut-court...   \n",
       "2386      243952  https://sofifa.com/player/243952/andriy-lunin/...   \n",
       "13354     264170  https://sofifa.com/player/264170/luis-federico...   \n",
       "\n",
       "        short_name                    long_name player_positions  overall  \\\n",
       "12     T. Courtois             Thibaut Courtois               GK       89   \n",
       "2386      A. Lunin                 Andriy Lunin               GK       74   \n",
       "13354   Luis López  Luis Federico López Andúgar               GK       63   \n",
       "\n",
       "       potential   value_eur  wage_eur  age  ...   lcb    cb   rcb    rb  \\\n",
       "12            91  85500000.0  250000.0   29  ...  29+3  29+3  29+3  29+3   \n",
       "2386          85   8000000.0   59000.0   22  ...  26+2  26+2  26+2  25+2   \n",
       "13354         76   1000000.0   11000.0   20  ...  20+2  20+2  20+2  18+2   \n",
       "\n",
       "         gk                                    player_face_url  \\\n",
       "12     86+3  https://cdn.sofifa.net/players/192/119/22_120.png   \n",
       "2386   73+2  https://cdn.sofifa.net/players/243/952/22_120.png   \n",
       "13354  62+2  https://cdn.sofifa.net/players/264/170/22_120.png   \n",
       "\n",
       "                                 club_logo_url  \\\n",
       "12     https://cdn.sofifa.net/teams/243/60.png   \n",
       "2386   https://cdn.sofifa.net/teams/243/60.png   \n",
       "13354  https://cdn.sofifa.net/teams/243/60.png   \n",
       "\n",
       "                             club_flag_url  \\\n",
       "12     https://cdn.sofifa.net/flags/es.png   \n",
       "2386   https://cdn.sofifa.net/flags/es.png   \n",
       "13354  https://cdn.sofifa.net/flags/es.png   \n",
       "\n",
       "                                nation_logo_url  \\\n",
       "12     https://cdn.sofifa.net/teams/1325/60.png   \n",
       "2386                                        NaN   \n",
       "13354                                       NaN   \n",
       "\n",
       "                           nation_flag_url  \n",
       "12     https://cdn.sofifa.net/flags/be.png  \n",
       "2386   https://cdn.sofifa.net/flags/ua.png  \n",
       "13354  https://cdn.sofifa.net/flags/es.png  \n",
       "\n",
       "[3 rows x 110 columns]"
      ]
     },
     "execution_count": 19,
     "metadata": {},
     "output_type": "execute_result"
    }
   ],
   "source": [
    "df[(df['player_positions'] == 'GK') & (df['club_name'] == 'Real Madrid CF')]"
   ]
  },
  {
   "cell_type": "code",
   "execution_count": 21,
   "id": "8bf877d8",
   "metadata": {},
   "outputs": [],
   "source": [
    "df_gk=df[(df['player_positions'] == 'GK') & (df['club_name'] != 'Real Madrid CF') & (df['age'] <= 26)]"
   ]
  },
  {
   "cell_type": "code",
   "execution_count": 22,
   "id": "905d1fe7",
   "metadata": {},
   "outputs": [
    {
     "data": {
      "text/html": [
       "<div>\n",
       "<style scoped>\n",
       "    .dataframe tbody tr th:only-of-type {\n",
       "        vertical-align: middle;\n",
       "    }\n",
       "\n",
       "    .dataframe tbody tr th {\n",
       "        vertical-align: top;\n",
       "    }\n",
       "\n",
       "    .dataframe thead th {\n",
       "        text-align: right;\n",
       "    }\n",
       "</style>\n",
       "<table border=\"1\" class=\"dataframe\">\n",
       "  <thead>\n",
       "    <tr style=\"text-align: right;\">\n",
       "      <th></th>\n",
       "      <th>sofifa_id</th>\n",
       "      <th>player_url</th>\n",
       "      <th>short_name</th>\n",
       "      <th>long_name</th>\n",
       "      <th>player_positions</th>\n",
       "      <th>overall</th>\n",
       "      <th>potential</th>\n",
       "      <th>value_eur</th>\n",
       "      <th>wage_eur</th>\n",
       "      <th>age</th>\n",
       "      <th>...</th>\n",
       "      <th>lcb</th>\n",
       "      <th>cb</th>\n",
       "      <th>rcb</th>\n",
       "      <th>rb</th>\n",
       "      <th>gk</th>\n",
       "      <th>player_face_url</th>\n",
       "      <th>club_logo_url</th>\n",
       "      <th>club_flag_url</th>\n",
       "      <th>nation_logo_url</th>\n",
       "      <th>nation_flag_url</th>\n",
       "    </tr>\n",
       "  </thead>\n",
       "  <tbody>\n",
       "    <tr>\n",
       "      <th>21</th>\n",
       "      <td>230621</td>\n",
       "      <td>https://sofifa.com/player/230621/gianluigi-don...</td>\n",
       "      <td>G. Donnarumma</td>\n",
       "      <td>Gianluigi Donnarumma</td>\n",
       "      <td>GK</td>\n",
       "      <td>89</td>\n",
       "      <td>93</td>\n",
       "      <td>119500000.0</td>\n",
       "      <td>110000.0</td>\n",
       "      <td>22</td>\n",
       "      <td>...</td>\n",
       "      <td>31+3</td>\n",
       "      <td>31+3</td>\n",
       "      <td>31+3</td>\n",
       "      <td>31+3</td>\n",
       "      <td>87+3</td>\n",
       "      <td>https://cdn.sofifa.net/players/230/621/22_120.png</td>\n",
       "      <td>https://cdn.sofifa.net/teams/73/60.png</td>\n",
       "      <td>https://cdn.sofifa.net/flags/fr.png</td>\n",
       "      <td>https://cdn.sofifa.net/teams/1343/60.png</td>\n",
       "      <td>https://cdn.sofifa.net/flags/it.png</td>\n",
       "    </tr>\n",
       "    <tr>\n",
       "      <th>127</th>\n",
       "      <td>215698</td>\n",
       "      <td>https://sofifa.com/player/215698/mike-maignan/...</td>\n",
       "      <td>M. Maignan</td>\n",
       "      <td>Mike Maignan</td>\n",
       "      <td>GK</td>\n",
       "      <td>84</td>\n",
       "      <td>89</td>\n",
       "      <td>49500000.0</td>\n",
       "      <td>45000.0</td>\n",
       "      <td>25</td>\n",
       "      <td>...</td>\n",
       "      <td>34+2</td>\n",
       "      <td>34+2</td>\n",
       "      <td>34+2</td>\n",
       "      <td>34+2</td>\n",
       "      <td>83+2</td>\n",
       "      <td>https://cdn.sofifa.net/players/215/698/22_120.png</td>\n",
       "      <td>https://cdn.sofifa.net/teams/47/60.png</td>\n",
       "      <td>https://cdn.sofifa.net/flags/it.png</td>\n",
       "      <td>https://cdn.sofifa.net/teams/1335/60.png</td>\n",
       "      <td>https://cdn.sofifa.net/flags/fr.png</td>\n",
       "    </tr>\n",
       "    <tr>\n",
       "      <th>243</th>\n",
       "      <td>211515</td>\n",
       "      <td>https://sofifa.com/player/211515/pierluigi-gol...</td>\n",
       "      <td>P. Gollini</td>\n",
       "      <td>Pierluigi Gollini</td>\n",
       "      <td>GK</td>\n",
       "      <td>82</td>\n",
       "      <td>87</td>\n",
       "      <td>35000000.0</td>\n",
       "      <td>48000.0</td>\n",
       "      <td>26</td>\n",
       "      <td>...</td>\n",
       "      <td>28+2</td>\n",
       "      <td>28+2</td>\n",
       "      <td>28+2</td>\n",
       "      <td>29+2</td>\n",
       "      <td>81+2</td>\n",
       "      <td>https://cdn.sofifa.net/players/211/515/22_120.png</td>\n",
       "      <td>https://cdn.sofifa.net/teams/18/60.png</td>\n",
       "      <td>https://cdn.sofifa.net/flags/gb-eng.png</td>\n",
       "      <td>NaN</td>\n",
       "      <td>https://cdn.sofifa.net/flags/it.png</td>\n",
       "    </tr>\n",
       "    <tr>\n",
       "      <th>267</th>\n",
       "      <td>230869</td>\n",
       "      <td>https://sofifa.com/player/230869/unai-simon-me...</td>\n",
       "      <td>Unai Simón</td>\n",
       "      <td>Unai Simón Mendibil</td>\n",
       "      <td>GK</td>\n",
       "      <td>82</td>\n",
       "      <td>86</td>\n",
       "      <td>34500000.0</td>\n",
       "      <td>24000.0</td>\n",
       "      <td>24</td>\n",
       "      <td>...</td>\n",
       "      <td>30+3</td>\n",
       "      <td>30+3</td>\n",
       "      <td>30+3</td>\n",
       "      <td>29+3</td>\n",
       "      <td>81+3</td>\n",
       "      <td>https://cdn.sofifa.net/players/230/869/22_120.png</td>\n",
       "      <td>https://cdn.sofifa.net/teams/448/60.png</td>\n",
       "      <td>https://cdn.sofifa.net/flags/es.png</td>\n",
       "      <td>https://cdn.sofifa.net/teams/1362/60.png</td>\n",
       "      <td>https://cdn.sofifa.net/flags/es.png</td>\n",
       "    </tr>\n",
       "    <tr>\n",
       "      <th>282</th>\n",
       "      <td>241671</td>\n",
       "      <td>https://sofifa.com/player/241671/dominik-livak...</td>\n",
       "      <td>D. Livaković</td>\n",
       "      <td>Dominik Livaković</td>\n",
       "      <td>GK</td>\n",
       "      <td>82</td>\n",
       "      <td>87</td>\n",
       "      <td>35000000.0</td>\n",
       "      <td>1000.0</td>\n",
       "      <td>26</td>\n",
       "      <td>...</td>\n",
       "      <td>33+2</td>\n",
       "      <td>33+2</td>\n",
       "      <td>33+2</td>\n",
       "      <td>32+2</td>\n",
       "      <td>81+2</td>\n",
       "      <td>https://cdn.sofifa.net/players/241/671/22_120.png</td>\n",
       "      <td>https://cdn.sofifa.net/teams/211/60.png</td>\n",
       "      <td>https://cdn.sofifa.net/flags/hr.png</td>\n",
       "      <td>NaN</td>\n",
       "      <td>https://cdn.sofifa.net/flags/hr.png</td>\n",
       "    </tr>\n",
       "    <tr>\n",
       "      <th>...</th>\n",
       "      <td>...</td>\n",
       "      <td>...</td>\n",
       "      <td>...</td>\n",
       "      <td>...</td>\n",
       "      <td>...</td>\n",
       "      <td>...</td>\n",
       "      <td>...</td>\n",
       "      <td>...</td>\n",
       "      <td>...</td>\n",
       "      <td>...</td>\n",
       "      <td>...</td>\n",
       "      <td>...</td>\n",
       "      <td>...</td>\n",
       "      <td>...</td>\n",
       "      <td>...</td>\n",
       "      <td>...</td>\n",
       "      <td>...</td>\n",
       "      <td>...</td>\n",
       "      <td>...</td>\n",
       "      <td>...</td>\n",
       "      <td>...</td>\n",
       "    </tr>\n",
       "    <tr>\n",
       "      <th>19210</th>\n",
       "      <td>261958</td>\n",
       "      <td>https://sofifa.com/player/261958/xiang-gao/220002</td>\n",
       "      <td>Gao Xiang</td>\n",
       "      <td>高翔</td>\n",
       "      <td>GK</td>\n",
       "      <td>48</td>\n",
       "      <td>54</td>\n",
       "      <td>60000.0</td>\n",
       "      <td>800.0</td>\n",
       "      <td>20</td>\n",
       "      <td>...</td>\n",
       "      <td>21+2</td>\n",
       "      <td>21+2</td>\n",
       "      <td>21+2</td>\n",
       "      <td>17+2</td>\n",
       "      <td>47+2</td>\n",
       "      <td>https://cdn.sofifa.net/players/261/958/22_120.png</td>\n",
       "      <td>https://cdn.sofifa.net/teams/112541/60.png</td>\n",
       "      <td>https://cdn.sofifa.net/flags/cn.png</td>\n",
       "      <td>NaN</td>\n",
       "      <td>https://cdn.sofifa.net/flags/cn.png</td>\n",
       "    </tr>\n",
       "    <tr>\n",
       "      <th>19216</th>\n",
       "      <td>263340</td>\n",
       "      <td>https://sofifa.com/player/263340/harvey-wiles-...</td>\n",
       "      <td>H. Wiles-Richards</td>\n",
       "      <td>Harvey Wiles-Richards</td>\n",
       "      <td>GK</td>\n",
       "      <td>48</td>\n",
       "      <td>65</td>\n",
       "      <td>110000.0</td>\n",
       "      <td>1000.0</td>\n",
       "      <td>19</td>\n",
       "      <td>...</td>\n",
       "      <td>20+2</td>\n",
       "      <td>20+2</td>\n",
       "      <td>20+2</td>\n",
       "      <td>19+2</td>\n",
       "      <td>47+2</td>\n",
       "      <td>https://cdn.sofifa.net/players/263/340/22_120.png</td>\n",
       "      <td>https://cdn.sofifa.net/teams/1919/60.png</td>\n",
       "      <td>https://cdn.sofifa.net/flags/gb-eng.png</td>\n",
       "      <td>NaN</td>\n",
       "      <td>https://cdn.sofifa.net/flags/gb-eng.png</td>\n",
       "    </tr>\n",
       "    <tr>\n",
       "      <th>19225</th>\n",
       "      <td>259213</td>\n",
       "      <td>https://sofifa.com/player/259213/dylan-da-silv...</td>\n",
       "      <td>D. Da Silva</td>\n",
       "      <td>Dylan Da Silva</td>\n",
       "      <td>GK</td>\n",
       "      <td>47</td>\n",
       "      <td>55</td>\n",
       "      <td>90000.0</td>\n",
       "      <td>500.0</td>\n",
       "      <td>21</td>\n",
       "      <td>...</td>\n",
       "      <td>19+2</td>\n",
       "      <td>19+2</td>\n",
       "      <td>19+2</td>\n",
       "      <td>18+2</td>\n",
       "      <td>46+2</td>\n",
       "      <td>https://cdn.sofifa.net/players/259/213/22_120.png</td>\n",
       "      <td>https://cdn.sofifa.net/teams/113298/60.png</td>\n",
       "      <td>https://cdn.sofifa.net/flags/in.png</td>\n",
       "      <td>NaN</td>\n",
       "      <td>https://cdn.sofifa.net/flags/in.png</td>\n",
       "    </tr>\n",
       "    <tr>\n",
       "      <th>19227</th>\n",
       "      <td>259646</td>\n",
       "      <td>https://sofifa.com/player/259646/arsh-shaikh/2...</td>\n",
       "      <td>A. Shaikh</td>\n",
       "      <td>Arsh Shaikh</td>\n",
       "      <td>GK</td>\n",
       "      <td>47</td>\n",
       "      <td>67</td>\n",
       "      <td>110000.0</td>\n",
       "      <td>500.0</td>\n",
       "      <td>18</td>\n",
       "      <td>...</td>\n",
       "      <td>17+2</td>\n",
       "      <td>17+2</td>\n",
       "      <td>17+2</td>\n",
       "      <td>16+2</td>\n",
       "      <td>46+2</td>\n",
       "      <td>https://cdn.sofifa.net/players/259/646/22_120.png</td>\n",
       "      <td>https://cdn.sofifa.net/teams/113146/60.png</td>\n",
       "      <td>https://cdn.sofifa.net/flags/in.png</td>\n",
       "      <td>NaN</td>\n",
       "      <td>https://cdn.sofifa.net/flags/in.png</td>\n",
       "    </tr>\n",
       "    <tr>\n",
       "      <th>19231</th>\n",
       "      <td>261547</td>\n",
       "      <td>https://sofifa.com/player/261547/revanth-by/22...</td>\n",
       "      <td>R. By</td>\n",
       "      <td>Revanth By</td>\n",
       "      <td>GK</td>\n",
       "      <td>47</td>\n",
       "      <td>55</td>\n",
       "      <td>90000.0</td>\n",
       "      <td>500.0</td>\n",
       "      <td>22</td>\n",
       "      <td>...</td>\n",
       "      <td>19+2</td>\n",
       "      <td>19+2</td>\n",
       "      <td>19+2</td>\n",
       "      <td>16+2</td>\n",
       "      <td>46+2</td>\n",
       "      <td>https://cdn.sofifa.net/players/261/547/22_120.png</td>\n",
       "      <td>https://cdn.sofifa.net/teams/113297/60.png</td>\n",
       "      <td>https://cdn.sofifa.net/flags/in.png</td>\n",
       "      <td>NaN</td>\n",
       "      <td>https://cdn.sofifa.net/flags/in.png</td>\n",
       "    </tr>\n",
       "  </tbody>\n",
       "</table>\n",
       "<p>1180 rows × 110 columns</p>\n",
       "</div>"
      ],
      "text/plain": [
       "       sofifa_id                                         player_url  \\\n",
       "21        230621  https://sofifa.com/player/230621/gianluigi-don...   \n",
       "127       215698  https://sofifa.com/player/215698/mike-maignan/...   \n",
       "243       211515  https://sofifa.com/player/211515/pierluigi-gol...   \n",
       "267       230869  https://sofifa.com/player/230869/unai-simon-me...   \n",
       "282       241671  https://sofifa.com/player/241671/dominik-livak...   \n",
       "...          ...                                                ...   \n",
       "19210     261958  https://sofifa.com/player/261958/xiang-gao/220002   \n",
       "19216     263340  https://sofifa.com/player/263340/harvey-wiles-...   \n",
       "19225     259213  https://sofifa.com/player/259213/dylan-da-silv...   \n",
       "19227     259646  https://sofifa.com/player/259646/arsh-shaikh/2...   \n",
       "19231     261547  https://sofifa.com/player/261547/revanth-by/22...   \n",
       "\n",
       "              short_name              long_name player_positions  overall  \\\n",
       "21         G. Donnarumma   Gianluigi Donnarumma               GK       89   \n",
       "127           M. Maignan           Mike Maignan               GK       84   \n",
       "243           P. Gollini      Pierluigi Gollini               GK       82   \n",
       "267           Unai Simón    Unai Simón Mendibil               GK       82   \n",
       "282         D. Livaković      Dominik Livaković               GK       82   \n",
       "...                  ...                    ...              ...      ...   \n",
       "19210          Gao Xiang                     高翔               GK       48   \n",
       "19216  H. Wiles-Richards  Harvey Wiles-Richards               GK       48   \n",
       "19225        D. Da Silva         Dylan Da Silva               GK       47   \n",
       "19227          A. Shaikh            Arsh Shaikh               GK       47   \n",
       "19231              R. By             Revanth By               GK       47   \n",
       "\n",
       "       potential    value_eur  wage_eur  age  ...   lcb    cb   rcb    rb  \\\n",
       "21            93  119500000.0  110000.0   22  ...  31+3  31+3  31+3  31+3   \n",
       "127           89   49500000.0   45000.0   25  ...  34+2  34+2  34+2  34+2   \n",
       "243           87   35000000.0   48000.0   26  ...  28+2  28+2  28+2  29+2   \n",
       "267           86   34500000.0   24000.0   24  ...  30+3  30+3  30+3  29+3   \n",
       "282           87   35000000.0    1000.0   26  ...  33+2  33+2  33+2  32+2   \n",
       "...          ...          ...       ...  ...  ...   ...   ...   ...   ...   \n",
       "19210         54      60000.0     800.0   20  ...  21+2  21+2  21+2  17+2   \n",
       "19216         65     110000.0    1000.0   19  ...  20+2  20+2  20+2  19+2   \n",
       "19225         55      90000.0     500.0   21  ...  19+2  19+2  19+2  18+2   \n",
       "19227         67     110000.0     500.0   18  ...  17+2  17+2  17+2  16+2   \n",
       "19231         55      90000.0     500.0   22  ...  19+2  19+2  19+2  16+2   \n",
       "\n",
       "         gk                                    player_face_url  \\\n",
       "21     87+3  https://cdn.sofifa.net/players/230/621/22_120.png   \n",
       "127    83+2  https://cdn.sofifa.net/players/215/698/22_120.png   \n",
       "243    81+2  https://cdn.sofifa.net/players/211/515/22_120.png   \n",
       "267    81+3  https://cdn.sofifa.net/players/230/869/22_120.png   \n",
       "282    81+2  https://cdn.sofifa.net/players/241/671/22_120.png   \n",
       "...     ...                                                ...   \n",
       "19210  47+2  https://cdn.sofifa.net/players/261/958/22_120.png   \n",
       "19216  47+2  https://cdn.sofifa.net/players/263/340/22_120.png   \n",
       "19225  46+2  https://cdn.sofifa.net/players/259/213/22_120.png   \n",
       "19227  46+2  https://cdn.sofifa.net/players/259/646/22_120.png   \n",
       "19231  46+2  https://cdn.sofifa.net/players/261/547/22_120.png   \n",
       "\n",
       "                                    club_logo_url  \\\n",
       "21         https://cdn.sofifa.net/teams/73/60.png   \n",
       "127        https://cdn.sofifa.net/teams/47/60.png   \n",
       "243        https://cdn.sofifa.net/teams/18/60.png   \n",
       "267       https://cdn.sofifa.net/teams/448/60.png   \n",
       "282       https://cdn.sofifa.net/teams/211/60.png   \n",
       "...                                           ...   \n",
       "19210  https://cdn.sofifa.net/teams/112541/60.png   \n",
       "19216    https://cdn.sofifa.net/teams/1919/60.png   \n",
       "19225  https://cdn.sofifa.net/teams/113298/60.png   \n",
       "19227  https://cdn.sofifa.net/teams/113146/60.png   \n",
       "19231  https://cdn.sofifa.net/teams/113297/60.png   \n",
       "\n",
       "                                 club_flag_url  \\\n",
       "21         https://cdn.sofifa.net/flags/fr.png   \n",
       "127        https://cdn.sofifa.net/flags/it.png   \n",
       "243    https://cdn.sofifa.net/flags/gb-eng.png   \n",
       "267        https://cdn.sofifa.net/flags/es.png   \n",
       "282        https://cdn.sofifa.net/flags/hr.png   \n",
       "...                                        ...   \n",
       "19210      https://cdn.sofifa.net/flags/cn.png   \n",
       "19216  https://cdn.sofifa.net/flags/gb-eng.png   \n",
       "19225      https://cdn.sofifa.net/flags/in.png   \n",
       "19227      https://cdn.sofifa.net/flags/in.png   \n",
       "19231      https://cdn.sofifa.net/flags/in.png   \n",
       "\n",
       "                                nation_logo_url  \\\n",
       "21     https://cdn.sofifa.net/teams/1343/60.png   \n",
       "127    https://cdn.sofifa.net/teams/1335/60.png   \n",
       "243                                         NaN   \n",
       "267    https://cdn.sofifa.net/teams/1362/60.png   \n",
       "282                                         NaN   \n",
       "...                                         ...   \n",
       "19210                                       NaN   \n",
       "19216                                       NaN   \n",
       "19225                                       NaN   \n",
       "19227                                       NaN   \n",
       "19231                                       NaN   \n",
       "\n",
       "                               nation_flag_url  \n",
       "21         https://cdn.sofifa.net/flags/it.png  \n",
       "127        https://cdn.sofifa.net/flags/fr.png  \n",
       "243        https://cdn.sofifa.net/flags/it.png  \n",
       "267        https://cdn.sofifa.net/flags/es.png  \n",
       "282        https://cdn.sofifa.net/flags/hr.png  \n",
       "...                                        ...  \n",
       "19210      https://cdn.sofifa.net/flags/cn.png  \n",
       "19216  https://cdn.sofifa.net/flags/gb-eng.png  \n",
       "19225      https://cdn.sofifa.net/flags/in.png  \n",
       "19227      https://cdn.sofifa.net/flags/in.png  \n",
       "19231      https://cdn.sofifa.net/flags/in.png  \n",
       "\n",
       "[1180 rows x 110 columns]"
      ]
     },
     "execution_count": 22,
     "metadata": {},
     "output_type": "execute_result"
    }
   ],
   "source": [
    "df_gk"
   ]
  },
  {
   "cell_type": "code",
   "execution_count": 24,
   "id": "add1eb38",
   "metadata": {},
   "outputs": [],
   "source": [
    "top_diving=df_gk.sort_values('goalkeeping_diving', ascending=False)"
   ]
  },
  {
   "cell_type": "code",
   "execution_count": 25,
   "id": "cba2d28c",
   "metadata": {},
   "outputs": [
    {
     "data": {
      "text/plain": [
       "21          Gianluigi Donnarumma\n",
       "363    Alejandro Remiro Gargallo\n",
       "127                 Mike Maignan\n",
       "243            Pierluigi Gollini\n",
       "267          Unai Simón Mendibil\n",
       "Name: long_name, dtype: object"
      ]
     },
     "execution_count": 25,
     "metadata": {},
     "output_type": "execute_result"
    }
   ],
   "source": [
    "top_diving['long_name'].head()"
   ]
  },
  {
   "cell_type": "code",
   "execution_count": 32,
   "id": "8a5216d8",
   "metadata": {},
   "outputs": [
    {
     "data": {
      "text/plain": [
       "<BarContainer object of 5 artists>"
      ]
     },
     "execution_count": 32,
     "metadata": {},
     "output_type": "execute_result"
    },
    {
     "data": {
      "image/png": "[encoded data removed]",
      "text/plain": [
       "<Figure size 640x480 with 1 Axes>"
      ]
     },
     "metadata": {},
     "output_type": "display_data"
    }
   ],
   "source": [
    "plt.bar(top_diving['short_name'].head(),top_diving['goalkeeping_diving'].head())"
   ]
  },
  {
   "cell_type": "code",
   "execution_count": 34,
   "id": "04bd6c04",
   "metadata": {},
   "outputs": [
    {
     "data": {
      "text/plain": [
       "<BarContainer object of 5 artists>"
      ]
     },
     "execution_count": 34,
     "metadata": {},
     "output_type": "execute_result"
    },
    {
     "data": {
      "image/png": "[encoded data removed]",
      "text/plain": [
       "<Figure size 640x480 with 1 Axes>"
      ]
     },
     "metadata": {},
     "output_type": "display_data"
    }
   ],
   "source": [
    "top_handling=df_gk.sort_values('goalkeeping_handling', ascending=False)\n",
    "plt.bar(top_handling['short_name'].head(),top_handling['goalkeeping_handling'].head())"
   ]
  },
  {
   "cell_type": "code",
   "execution_count": 35,
   "id": "41eae84d",
   "metadata": {},
   "outputs": [
    {
     "data": {
      "text/plain": [
       "<BarContainer object of 5 artists>"
      ]
     },
     "execution_count": 35,
     "metadata": {},
     "output_type": "execute_result"
    },
    {
     "data": {
      "image/png": "[encoded data removed]",
      "text/plain": [
       "<Figure size 640x480 with 1 Axes>"
      ]
     },
     "metadata": {},
     "output_type": "display_data"
    }
   ],
   "source": [
    "top_kicking=df_gk.sort_values('goalkeeping_kicking', ascending=False)\n",
    "plt.bar(top_kicking['short_name'].head(),top_kicking['goalkeeping_kicking'].head())"
   ]
  },
  {
   "cell_type": "code",
   "execution_count": 36,
   "id": "6e1c8952",
   "metadata": {},
   "outputs": [
    {
     "data": {
      "text/plain": [
       "<BarContainer object of 5 artists>"
      ]
     },
     "execution_count": 36,
     "metadata": {},
     "output_type": "execute_result"
    },
    {
     "data": {
      "image/png": "[encoded data removed]",
      "text/plain": [
       "<Figure size 640x480 with 1 Axes>"
      ]
     },
     "metadata": {},
     "output_type": "display_data"
    }
   ],
   "source": [
    "top_reflexes=df_gk.sort_values('goalkeeping_reflexes', ascending=False)\n",
    "plt.bar(top_reflexes['short_name'].head(),top_reflexes['goalkeeping_reflexes'].head())"
   ]
  },
  {
   "cell_type": "code",
   "execution_count": 38,
   "id": "af2b1d96",
   "metadata": {},
   "outputs": [
    {
     "data": {
      "text/plain": [
       "<BarContainer object of 5 artists>"
      ]
     },
     "execution_count": 38,
     "metadata": {},
     "output_type": "execute_result"
    },
    {
     "data": {
      "image/png": "[encoded data removed]",
      "text/plain": [
       "<Figure size 640x480 with 1 Axes>"
      ]
     },
     "metadata": {},
     "output_type": "display_data"
    }
   ],
   "source": [
    "top_speed=df_gk.sort_values('goalkeeping_speed', ascending=False)\n",
    "plt.bar(top_speed['short_name'].head(),top_speed['goalkeeping_speed'].head())"
   ]
  },
  {
   "cell_type": "code",
   "execution_count": 39,
   "id": "37c71ca9",
   "metadata": {},
   "outputs": [],
   "source": [
    "# best GK Gianluigi Donnarumma"
   ]
  },
  {
   "cell_type": "markdown",
   "id": "b097a42a",
   "metadata": {},
   "source": [
    "# Best Defender"
   ]
  },
  {
   "cell_type": "code",
   "execution_count": 9,
   "id": "b1fc1872",
   "metadata": {},
   "outputs": [],
   "source": [
    "df_df=df[(df['club_name'] != 'Real Madrid CF') & (df['age'] <= 26)]"
   ]
  },
  {
   "cell_type": "code",
   "execution_count": 10,
   "id": "9209a11a",
   "metadata": {},
   "outputs": [
    {
     "data": {
      "text/plain": [
       "<BarContainer object of 5 artists>"
      ]
     },
     "execution_count": 10,
     "metadata": {},
     "output_type": "execute_result"
    },
    {
     "data": {
      "image/png": "[encoded data removed]",
      "text/plain": [
       "<Figure size 640x480 with 1 Axes>"
      ]
     },
     "metadata": {},
     "output_type": "display_data"
    }
   ],
   "source": [
    "top_2=df_df.sort_values('defending_marking_awareness', ascending=False)\n",
    "plt.bar(top_2['short_name'].head(),top_2['defending_marking_awareness'].head())"
   ]
  },
  {
   "cell_type": "code",
   "execution_count": 12,
   "id": "2ebca08d",
   "metadata": {},
   "outputs": [
    {
     "data": {
      "text/plain": [
       "<BarContainer object of 5 artists>"
      ]
     },
     "execution_count": 12,
     "metadata": {},
     "output_type": "execute_result"
    },
    {
     "data": {
      "image/png": "[encoded data removed]",
      "text/plain": [
       "<Figure size 640x480 with 1 Axes>"
      ]
     },
     "metadata": {},
     "output_type": "display_data"
    }
   ],
   "source": [
    "top_2=df_df.sort_values('defending_standing_tackle', ascending=False)\n",
    "plt.bar(top_2['short_name'].head(),top_2['defending_standing_tackle'].head())"
   ]
  },
  {
   "cell_type": "code",
   "execution_count": 13,
   "id": "860d9c0b",
   "metadata": {},
   "outputs": [
    {
     "data": {
      "text/plain": [
       "<BarContainer object of 5 artists>"
      ]
     },
     "execution_count": 13,
     "metadata": {},
     "output_type": "execute_result"
    },
    {
     "data": {
      "image/png": "[encoded data removed]",
      "text/plain": [
       "<Figure size 640x480 with 1 Axes>"
      ]
     },
     "metadata": {},
     "output_type": "display_data"
    }
   ],
   "source": [
    "top_2=df_df.sort_values('defending_sliding_tackle', ascending=False)\n",
    "plt.bar(top_2['short_name'].head(),top_2['defending_sliding_tackle'].head())"
   ]
  },
  {
   "cell_type": "code",
   "execution_count": 14,
   "id": "4a7d2111",
   "metadata": {},
   "outputs": [
    {
     "data": {
      "text/plain": [
       "<BarContainer object of 5 artists>"
      ]
     },
     "execution_count": 14,
     "metadata": {},
     "output_type": "execute_result"
    },
    {
     "data": {
      "image/png": "[encoded data removed]",
      "text/plain": [
       "<Figure size 640x480 with 1 Axes>"
      ]
     },
     "metadata": {},
     "output_type": "display_data"
    }
   ],
   "source": [
    "top_2=df_df.sort_values('defending', ascending=False)\n",
    "plt.bar(top_2['short_name'].head(),top_2['defending'].head())"
   ]
  },
  {
   "cell_type": "code",
   "execution_count": 15,
   "id": "9fc0b158",
   "metadata": {},
   "outputs": [
    {
     "data": {
      "text/plain": [
       "46      Rúben Dias\n",
       "91        W. Ndidi\n",
       "68     M. Škriniar\n",
       "130     J. Giménez\n",
       "260       Palhinha\n",
       "Name: short_name, dtype: object"
      ]
     },
     "execution_count": 15,
     "metadata": {},
     "output_type": "execute_result"
    }
   ],
   "source": [
    "top_2['short_name'].head()"
   ]
  },
  {
   "cell_type": "code",
   "execution_count": 17,
   "id": "859e7878",
   "metadata": {},
   "outputs": [],
   "source": [
    "# Best Defender Ruben Dias"
   ]
  },
  {
   "cell_type": "markdown",
   "id": "49fa25ef",
   "metadata": {},
   "source": [
    "# 1 Midfielder (Could be any position)"
   ]
  },
  {
   "cell_type": "code",
   "execution_count": 41,
   "id": "bdd25967",
   "metadata": {},
   "outputs": [],
   "source": [
    "df_mid=df[(df['club_name'] != 'Real Madrid CF') & (df['age'] <= 26)]"
   ]
  },
  {
   "cell_type": "code",
   "execution_count": 43,
   "id": "fdf81e2c",
   "metadata": {},
   "outputs": [
    {
     "data": {
      "text/plain": [
       "<BarContainer object of 5 artists>"
      ]
     },
     "execution_count": 43,
     "metadata": {},
     "output_type": "execute_result"
    },
    {
     "data": {
      "image/png": "[encoded data removed]",
      "text/plain": [
       "<Figure size 640x480 with 1 Axes>"
      ]
     },
     "metadata": {},
     "output_type": "display_data"
    }
   ],
   "source": [
    "top_4=df_mid.sort_values('pace', ascending=False)\n",
    "plt.bar(top_4['short_name'].head(),top_4['pace'].head())"
   ]
  },
  {
   "cell_type": "code",
   "execution_count": 44,
   "id": "33ab6c2f",
   "metadata": {},
   "outputs": [
    {
     "data": {
      "text/plain": [
       "<BarContainer object of 5 artists>"
      ]
     },
     "execution_count": 44,
     "metadata": {},
     "output_type": "execute_result"
    },
    {
     "data": {
      "image/png": "[encoded data removed]",
      "text/plain": [
       "<Figure size 640x480 with 1 Axes>"
      ]
     },
     "metadata": {},
     "output_type": "display_data"
    }
   ],
   "source": [
    "top_4=df_mid.sort_values('shooting', ascending=False)\n",
    "plt.bar(top_4['short_name'].head(),top_4['shooting'].head())"
   ]
  },
  {
   "cell_type": "code",
   "execution_count": 45,
   "id": "613e6d78",
   "metadata": {},
   "outputs": [
    {
     "data": {
      "text/plain": [
       "<BarContainer object of 5 artists>"
      ]
     },
     "execution_count": 45,
     "metadata": {},
     "output_type": "execute_result"
    },
    {
     "data": {
      "image/png": "[encoded data removed]",
      "text/plain": [
       "<Figure size 640x480 with 1 Axes>"
      ]
     },
     "metadata": {},
     "output_type": "display_data"
    }
   ],
   "source": [
    "top_4=df_mid.sort_values('passing', ascending=False)\n",
    "plt.bar(top_4['short_name'].head(),top_4['passing'].head())"
   ]
  },
  {
   "cell_type": "code",
   "execution_count": 46,
   "id": "52c8d259",
   "metadata": {},
   "outputs": [
    {
     "data": {
      "text/plain": [
       "<BarContainer object of 5 artists>"
      ]
     },
     "execution_count": 46,
     "metadata": {},
     "output_type": "execute_result"
    },
    {
     "data": {
      "image/png": "[encoded data removed]",
      "text/plain": [
       "<Figure size 640x480 with 1 Axes>"
      ]
     },
     "metadata": {},
     "output_type": "display_data"
    }
   ],
   "source": [
    "top_4=df_mid.sort_values('dribbling', ascending=False)\n",
    "plt.bar(top_4['short_name'].head(),top_4['dribbling'].head())"
   ]
  },
  {
   "cell_type": "code",
   "execution_count": 48,
   "id": "61d8e8c9",
   "metadata": {},
   "outputs": [],
   "source": [
    "# Best MF K Mbappe"
   ]
  },
  {
   "cell_type": "markdown",
   "id": "4a4ac32e",
   "metadata": {},
   "source": [
    "# 1 Attacker (Could be any position)"
   ]
  },
  {
   "cell_type": "code",
   "execution_count": 50,
   "id": "c1639288",
   "metadata": {},
   "outputs": [],
   "source": [
    "df_att=df[(df['club_name'] != 'Real Madrid CF') & (df['age'] <= 26)]"
   ]
  },
  {
   "cell_type": "code",
   "execution_count": 52,
   "id": "80d68ab1",
   "metadata": {},
   "outputs": [
    {
     "data": {
      "text/plain": [
       "<BarContainer object of 5 artists>"
      ]
     },
     "execution_count": 52,
     "metadata": {},
     "output_type": "execute_result"
    },
    {
     "data": {
      "image/png": "[encoded data removed]",
      "text/plain": [
       "<Figure size 640x480 with 1 Axes>"
      ]
     },
     "metadata": {},
     "output_type": "display_data"
    }
   ],
   "source": [
    "top_3=df_att.sort_values('attacking_crossing', ascending=False)\n",
    "plt.bar(top_3['short_name'].head(),top_3['attacking_crossing'].head())"
   ]
  },
  {
   "cell_type": "code",
   "execution_count": 54,
   "id": "78744dde",
   "metadata": {},
   "outputs": [
    {
     "data": {
      "text/plain": [
       "<BarContainer object of 5 artists>"
      ]
     },
     "execution_count": 54,
     "metadata": {},
     "output_type": "execute_result"
    },
    {
     "data": {
      "image/png": "[encoded data removed]",
      "text/plain": [
       "<Figure size 640x480 with 1 Axes>"
      ]
     },
     "metadata": {},
     "output_type": "display_data"
    }
   ],
   "source": [
    "top_3=df_att.sort_values('attacking_finishing', ascending=False)\n",
    "plt.bar(top_3['short_name'].head(),top_3['attacking_finishing'].head())"
   ]
  },
  {
   "cell_type": "code",
   "execution_count": 56,
   "id": "95f2e603",
   "metadata": {},
   "outputs": [
    {
     "data": {
      "text/plain": [
       "<BarContainer object of 5 artists>"
      ]
     },
     "execution_count": 56,
     "metadata": {},
     "output_type": "execute_result"
    },
    {
     "data": {
      "image/png": "[encoded data removed]",
      "text/plain": [
       "<Figure size 640x480 with 1 Axes>"
      ]
     },
     "metadata": {},
     "output_type": "display_data"
    }
   ],
   "source": [
    "top_3=df_att.sort_values('wage_eur', ascending=False)\n",
    "plt.bar(top_3['short_name'].head(),top_3['wage_eur'].head())"
   ]
  },
  {
   "cell_type": "code",
   "execution_count": 57,
   "id": "22ff908d",
   "metadata": {},
   "outputs": [],
   "source": [
    "# BEST ATTACKER COULD BE E. Halland"
   ]
  },
  {
   "cell_type": "code",
   "execution_count": null,
   "id": "c6157406",
   "metadata": {},
   "outputs": [],
   "source": []
  },
  {
   "cell_type": "code",
   "execution_count": null,
   "id": "e937a1f5",
   "metadata": {},
   "outputs": [],
   "source": []
  }
 ],
 "metadata": {
  "kernelspec": {
   "display_name": "Python 3 (ipykernel)",
   "language": "python",
   "name": "python3"
  },
  "language_info": {
   "codemirror_mode": {
    "name": "ipython",
    "version": 3
   },
   "file_extension": ".py",
   "mimetype": "text/x-python",
   "name": "python",
   "nbconvert_exporter": "python",
   "pygments_lexer": "ipython3",
   "version": "3.9.16"
  }
 },
 "nbformat": 4,
 "nbformat_minor": 5
}
